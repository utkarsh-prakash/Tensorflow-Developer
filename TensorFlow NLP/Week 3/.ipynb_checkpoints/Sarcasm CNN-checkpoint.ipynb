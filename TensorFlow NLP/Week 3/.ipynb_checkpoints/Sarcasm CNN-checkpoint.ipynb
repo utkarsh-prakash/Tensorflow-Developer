{
 "cells": [
  {
   "cell_type": "code",
   "execution_count": 1,
   "metadata": {},
   "outputs": [],
   "source": [
    "import json\n",
    "import tensorflow as tf\n",
    "import numpy as np\n",
    "import random\n",
    "import re\n",
    "import spacy"
   ]
  },
  {
   "cell_type": "code",
   "execution_count": 2,
   "metadata": {},
   "outputs": [
    {
     "name": "stdout",
     "output_type": "stream",
     "text": [
      "1 Physical GPUs, 1 Logical GPUs\n"
     ]
    }
   ],
   "source": [
    "gpus = tf.config.experimental.list_physical_devices('GPU')\n",
    "if gpus:\n",
    "    try:\n",
    "    # Currently, memory growth needs to be the same across GPUs\n",
    "        for gpu in gpus:\n",
    "            tf.config.experimental.set_memory_growth(gpu, True)\n",
    "        logical_gpus = tf.config.experimental.list_logical_devices('GPU')\n",
    "        print(len(gpus), \"Physical GPUs,\", len(logical_gpus), \"Logical GPUs\")\n",
    "    except RuntimeError as e:\n",
    "    # Memory growth must be set before GPUs have been initialized\n",
    "        print(e)"
   ]
  },
  {
   "cell_type": "code",
   "execution_count": 3,
   "metadata": {},
   "outputs": [
    {
     "name": "stdout",
     "output_type": "stream",
     "text": [
      "Total 26709 lines of data.\n"
     ]
    }
   ],
   "source": [
    "with open(\"data/sarcasm.json\", 'r') as f:\n",
    "    datastore = json.load(f)\n",
    "\n",
    "sentences = []\n",
    "labels = []\n",
    "\n",
    "for item in datastore:\n",
    "    sentences.append(item['headline'])\n",
    "    labels.append(item['is_sarcastic'])\n",
    "print('Total', len(labels), 'lines of data.')"
   ]
  },
  {
   "cell_type": "code",
   "execution_count": 4,
   "metadata": {},
   "outputs": [],
   "source": [
    "training_size = 20000\n",
    "training_sentences = sentences[0:training_size]\n",
    "testing_sentences = sentences[training_size:]\n",
    "training_labels = np.array(labels[0:training_size])\n",
    "testing_labels = np.array(labels[training_size:])"
   ]
  },
  {
   "cell_type": "code",
   "execution_count": 5,
   "metadata": {},
   "outputs": [
    {
     "name": "stdout",
     "output_type": "stream",
     "text": [
      "bold employee just watching videos during meeting with sound on\n",
      "Is Sarcastic? Yes\n"
     ]
    }
   ],
   "source": [
    "index = random.randint(0,training_size-1)\n",
    "print(training_sentences[index])\n",
    "ref = {0:'No', 1:'Yes'}\n",
    "print(\"Is Sarcastic?\", ref[training_labels[index]])"
   ]
  },
  {
   "cell_type": "code",
   "execution_count": 6,
   "metadata": {},
   "outputs": [],
   "source": [
    "model = \"en_core_web_sm\"\n",
    "nlp = spacy.load(model)"
   ]
  },
  {
   "cell_type": "code",
   "execution_count": 7,
   "metadata": {},
   "outputs": [],
   "source": [
    "def text_processing(text):\n",
    "    text = re.sub('[^a-zA-Z]', ' ', text)\n",
    "    text = re.sub(' +', ' ', text)\n",
    "    all_stopwords = nlp.Defaults.stop_words\n",
    "    text = nlp(text)\n",
    "    text_tokens = [token.lemma_ for token in text]\n",
    "    tokens_without_sw= [word for word in text_tokens if not word in all_stopwords]\n",
    "    return \" \".join(tokens_without_sw)"
   ]
  },
  {
   "cell_type": "code",
   "execution_count": 8,
   "metadata": {},
   "outputs": [],
   "source": [
    "training_sentences = np.array(list(map(text_processing, training_sentences)))\n",
    "testing_sentences = np.array(list(map(text_processing, testing_sentences)))"
   ]
  },
  {
   "cell_type": "code",
   "execution_count": 9,
   "metadata": {},
   "outputs": [],
   "source": [
    "from tensorflow.keras.preprocessing.text import Tokenizer\n",
    "from tensorflow.keras.preprocessing.sequence import pad_sequences"
   ]
  },
  {
   "cell_type": "code",
   "execution_count": 10,
   "metadata": {},
   "outputs": [],
   "source": [
    "voc_size = 10000\n",
    "max_len = 70\n",
    "embedding_dim = 16\n",
    "trunc_type='post'\n",
    "oov_tok = \"<OOV>\""
   ]
  },
  {
   "cell_type": "code",
   "execution_count": 11,
   "metadata": {},
   "outputs": [],
   "source": [
    "tokenizer = Tokenizer(num_words = voc_size, oov_token=oov_tok)\n",
    "tokenizer.fit_on_texts(training_sentences)\n",
    "word_index = tokenizer.word_index\n",
    "sequences = tokenizer.texts_to_sequences(training_sentences)\n",
    "padded = pad_sequences(sequences,maxlen=max_len, truncating=trunc_type)\n",
    "\n",
    "testing_sequences = tokenizer.texts_to_sequences(testing_sentences)\n",
    "testing_padded = pad_sequences(testing_sequences,maxlen=max_len)"
   ]
  },
  {
   "cell_type": "code",
   "execution_count": 12,
   "metadata": {},
   "outputs": [
    {
     "name": "stdout",
     "output_type": "stream",
     "text": [
      "Model: \"sequential\"\n",
      "_________________________________________________________________\n",
      "Layer (type)                 Output Shape              Param #   \n",
      "=================================================================\n",
      "embedding (Embedding)        (None, 70, 16)            160000    \n",
      "_________________________________________________________________\n",
      "conv1d (Conv1D)              (None, 66, 128)           10368     \n",
      "_________________________________________________________________\n",
      "global_average_pooling1d (Gl (None, 128)               0         \n",
      "_________________________________________________________________\n",
      "dense (Dense)                (None, 64)                8256      \n",
      "_________________________________________________________________\n",
      "dense_1 (Dense)              (None, 1)                 65        \n",
      "=================================================================\n",
      "Total params: 178,689\n",
      "Trainable params: 178,689\n",
      "Non-trainable params: 0\n",
      "_________________________________________________________________\n"
     ]
    }
   ],
   "source": [
    "# 1-D convolution with filter size 5 and 128 filters\n",
    "model = tf.keras.Sequential([\n",
    "    tf.keras.layers.Embedding(voc_size, embedding_dim, input_length=max_len),\n",
    "    tf.keras.layers.Conv1D(128, 5, activation='relu'),\n",
    "    tf.keras.layers.GlobalAveragePooling1D(),\n",
    "    tf.keras.layers.Dense(64, activation='relu'),\n",
    "    tf.keras.layers.Dense(1, activation='sigmoid')\n",
    "])\n",
    "model.compile(loss='binary_crossentropy', optimizer='adam', metrics=['accuracy'])\n",
    "model.summary()"
   ]
  },
  {
   "cell_type": "code",
   "execution_count": 13,
   "metadata": {},
   "outputs": [
    {
     "name": "stdout",
     "output_type": "stream",
     "text": [
      "Epoch 1/30\n",
      "625/625 [==============================] - 2s 4ms/step - loss: 0.5576 - accuracy: 0.6962 - val_loss: 0.4589 - val_accuracy: 0.7857\n",
      "Epoch 2/30\n",
      "625/625 [==============================] - 2s 4ms/step - loss: 0.3536 - accuracy: 0.8501 - val_loss: 0.4561 - val_accuracy: 0.7870\n",
      "Epoch 3/30\n",
      "625/625 [==============================] - 2s 4ms/step - loss: 0.2740 - accuracy: 0.8906 - val_loss: 0.4929 - val_accuracy: 0.7851\n",
      "Epoch 4/30\n",
      "625/625 [==============================] - 3s 4ms/step - loss: 0.2266 - accuracy: 0.9126 - val_loss: 0.5519 - val_accuracy: 0.7833\n",
      "Epoch 5/30\n",
      "625/625 [==============================] - 2s 4ms/step - loss: 0.1870 - accuracy: 0.9303 - val_loss: 0.5985 - val_accuracy: 0.7830\n",
      "Epoch 6/30\n",
      "625/625 [==============================] - 2s 4ms/step - loss: 0.1561 - accuracy: 0.9433 - val_loss: 0.6639 - val_accuracy: 0.7778\n",
      "Epoch 7/30\n",
      "625/625 [==============================] - 2s 4ms/step - loss: 0.1291 - accuracy: 0.9556 - val_loss: 0.6761 - val_accuracy: 0.7810\n",
      "Epoch 8/30\n",
      "625/625 [==============================] - 3s 4ms/step - loss: 0.1031 - accuracy: 0.9655 - val_loss: 0.8121 - val_accuracy: 0.7775\n",
      "Epoch 9/30\n",
      "625/625 [==============================] - 3s 4ms/step - loss: 0.0818 - accuracy: 0.9740 - val_loss: 0.9120 - val_accuracy: 0.7731\n",
      "Epoch 10/30\n",
      "625/625 [==============================] - 2s 4ms/step - loss: 0.0659 - accuracy: 0.9804 - val_loss: 1.0610 - val_accuracy: 0.7694\n",
      "Epoch 11/30\n",
      "625/625 [==============================] - 2s 4ms/step - loss: 0.0527 - accuracy: 0.9843 - val_loss: 1.1204 - val_accuracy: 0.7636\n",
      "Epoch 12/30\n",
      "625/625 [==============================] - 2s 4ms/step - loss: 0.0403 - accuracy: 0.9880 - val_loss: 1.2098 - val_accuracy: 0.7611\n",
      "Epoch 13/30\n",
      "625/625 [==============================] - 3s 4ms/step - loss: 0.0308 - accuracy: 0.9914 - val_loss: 1.4687 - val_accuracy: 0.7642\n",
      "Epoch 14/30\n",
      "625/625 [==============================] - 2s 4ms/step - loss: 0.0245 - accuracy: 0.9926 - val_loss: 1.4853 - val_accuracy: 0.7570\n",
      "Epoch 15/30\n",
      "625/625 [==============================] - 2s 4ms/step - loss: 0.0212 - accuracy: 0.9941 - val_loss: 1.6363 - val_accuracy: 0.7561\n",
      "Epoch 16/30\n",
      "625/625 [==============================] - 2s 4ms/step - loss: 0.0175 - accuracy: 0.9947 - val_loss: 1.8408 - val_accuracy: 0.7597\n",
      "Epoch 17/30\n",
      "625/625 [==============================] - 3s 4ms/step - loss: 0.0140 - accuracy: 0.9959 - val_loss: 1.8826 - val_accuracy: 0.7559\n",
      "Epoch 18/30\n",
      "625/625 [==============================] - 2s 3ms/step - loss: 0.0129 - accuracy: 0.9966 - val_loss: 2.1016 - val_accuracy: 0.7582\n",
      "Epoch 19/30\n",
      "625/625 [==============================] - 2s 4ms/step - loss: 0.0103 - accuracy: 0.9972 - val_loss: 2.2028 - val_accuracy: 0.7515\n",
      "Epoch 20/30\n",
      "625/625 [==============================] - 3s 4ms/step - loss: 0.0089 - accuracy: 0.9973 - val_loss: 2.4216 - val_accuracy: 0.7572\n",
      "Epoch 21/30\n",
      "625/625 [==============================] - 2s 4ms/step - loss: 0.0093 - accuracy: 0.9971 - val_loss: 2.4475 - val_accuracy: 0.7544\n",
      "Epoch 22/30\n",
      "625/625 [==============================] - 2s 4ms/step - loss: 0.0087 - accuracy: 0.9971 - val_loss: 2.6427 - val_accuracy: 0.7538\n",
      "Epoch 23/30\n",
      "625/625 [==============================] - 2s 3ms/step - loss: 0.0085 - accuracy: 0.9971 - val_loss: 2.6451 - val_accuracy: 0.7460\n",
      "Epoch 24/30\n",
      "625/625 [==============================] - 2s 3ms/step - loss: 0.0071 - accuracy: 0.9973 - val_loss: 2.7614 - val_accuracy: 0.7505\n",
      "Epoch 25/30\n",
      "625/625 [==============================] - 2s 4ms/step - loss: 0.0057 - accuracy: 0.9981 - val_loss: 2.9245 - val_accuracy: 0.7527\n",
      "Epoch 26/30\n",
      "625/625 [==============================] - 3s 4ms/step - loss: 0.0046 - accuracy: 0.9983 - val_loss: 3.1158 - val_accuracy: 0.7503\n",
      "Epoch 27/30\n",
      "625/625 [==============================] - 3s 5ms/step - loss: 0.0043 - accuracy: 0.9985 - val_loss: 3.1901 - val_accuracy: 0.7530\n",
      "Epoch 28/30\n",
      "625/625 [==============================] - 3s 5ms/step - loss: 0.0043 - accuracy: 0.9985 - val_loss: 3.1212 - val_accuracy: 0.7457\n",
      "Epoch 29/30\n",
      "625/625 [==============================] - 3s 5ms/step - loss: 0.0046 - accuracy: 0.9984 - val_loss: 3.2039 - val_accuracy: 0.7450\n",
      "Epoch 30/30\n",
      "625/625 [==============================] - 3s 5ms/step - loss: 0.0032 - accuracy: 0.9990 - val_loss: 3.2005 - val_accuracy: 0.7485\n"
     ]
    }
   ],
   "source": [
    "num_epochs = 30\n",
    "history = model.fit(padded, training_labels, epochs=num_epochs, validation_data=(testing_padded, testing_labels))"
   ]
  },
  {
   "cell_type": "code",
   "execution_count": 14,
   "metadata": {},
   "outputs": [
    {
     "data": {
      "image/png": "[encoded data removed]",
      "text/plain": [
       "<Figure size 432x288 with 1 Axes>"
      ]
     },
     "metadata": {
      "needs_background": "light"
     },
     "output_type": "display_data"
    },
    {
     "data": {
      "image/png": "[encoded data removed]",
      "text/plain": [
       "<Figure size 432x288 with 1 Axes>"
      ]
     },
     "metadata": {
      "needs_background": "light"
     },
     "output_type": "display_data"
    }
   ],
   "source": [
    "import matplotlib.pyplot as plt\n",
    "\n",
    "\n",
    "def plot_graphs(history, string):\n",
    "    plt.plot(history.history[string])\n",
    "    plt.plot(history.history['val_'+string])\n",
    "    plt.xlabel(\"Epochs\")\n",
    "    plt.ylabel(string)\n",
    "    plt.legend([string, 'val_'+string])\n",
    "    plt.show()\n",
    "\n",
    "plot_graphs(history, \"accuracy\")\n",
    "plot_graphs(history, \"loss\")"
   ]
  }
 ],
 "metadata": {
  "kernelspec": {
   "display_name": "Python 3",
   "language": "python",
   "name": "python3"
  },
  "language_info": {
   "codemirror_mode": {
    "name": "ipython",
    "version": 3
   },
   "file_extension": ".py",
   "mimetype": "text/x-python",
   "name": "python",
   "nbconvert_exporter": "python",
   "pygments_lexer": "ipython3",
   "version": "3.7.6"
  }
 },
 "nbformat": 4,
 "nbformat_minor": 4
}
