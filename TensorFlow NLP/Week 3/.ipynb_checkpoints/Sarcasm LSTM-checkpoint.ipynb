{
 "cells": [
  {
   "cell_type": "code",
   "execution_count": 1,
   "metadata": {},
   "outputs": [],
   "source": [
    "import json\n",
    "import tensorflow as tf\n",
    "import numpy as np\n",
    "import random\n",
    "import re\n",
    "import spacy"
   ]
  },
  {
   "cell_type": "code",
   "execution_count": 2,
   "metadata": {},
   "outputs": [
    {
     "name": "stdout",
     "output_type": "stream",
     "text": [
      "1 Physical GPUs, 1 Logical GPUs\n"
     ]
    }
   ],
   "source": [
    "gpus = tf.config.experimental.list_physical_devices('GPU')\n",
    "if gpus:\n",
    "    try:\n",
    "    # Currently, memory growth needs to be the same across GPUs\n",
    "        for gpu in gpus:\n",
    "            tf.config.experimental.set_memory_growth(gpu, True)\n",
    "        logical_gpus = tf.config.experimental.list_logical_devices('GPU')\n",
    "        print(len(gpus), \"Physical GPUs,\", len(logical_gpus), \"Logical GPUs\")\n",
    "    except RuntimeError as e:\n",
    "    # Memory growth must be set before GPUs have been initialized\n",
    "        print(e)"
   ]
  },
  {
   "cell_type": "code",
   "execution_count": 3,
   "metadata": {},
   "outputs": [
    {
     "name": "stdout",
     "output_type": "stream",
     "text": [
      "Total 26709 lines of data.\n"
     ]
    }
   ],
   "source": [
    "with open(\"data/sarcasm.json\", 'r') as f:\n",
    "    datastore = json.load(f)\n",
    "\n",
    "sentences = []\n",
    "labels = []\n",
    "\n",
    "for item in datastore:\n",
    "    sentences.append(item['headline'])\n",
    "    labels.append(item['is_sarcastic'])\n",
    "print('Total', len(labels), 'lines of data.')"
   ]
  },
  {
   "cell_type": "code",
   "execution_count": 4,
   "metadata": {},
   "outputs": [],
   "source": [
    "training_size = 20000\n",
    "training_sentences = sentences[0:training_size]\n",
    "testing_sentences = sentences[training_size:]\n",
    "training_labels = np.array(labels[0:training_size])\n",
    "testing_labels = np.array(labels[training_size:])"
   ]
  },
  {
   "cell_type": "code",
   "execution_count": 5,
   "metadata": {},
   "outputs": [
    {
     "name": "stdout",
     "output_type": "stream",
     "text": [
      "an education revolution in one word\n",
      "Is Sarcastic? No\n"
     ]
    }
   ],
   "source": [
    "index = random.randint(0,training_size-1)\n",
    "print(training_sentences[index])\n",
    "ref = {0:'No', 1:'Yes'}\n",
    "print(\"Is Sarcastic?\", ref[training_labels[index]])"
   ]
  },
  {
   "cell_type": "code",
   "execution_count": 7,
   "metadata": {},
   "outputs": [],
   "source": [
    "model = \"en_core_web_sm\"\n",
    "nlp = spacy.load(model)"
   ]
  },
  {
   "cell_type": "code",
   "execution_count": 8,
   "metadata": {},
   "outputs": [],
   "source": [
    "def text_processing(text):\n",
    "    text = re.sub('[^a-zA-Z]', ' ', text)\n",
    "    text = re.sub(' +', ' ', text)\n",
    "    all_stopwords = nlp.Defaults.stop_words\n",
    "    text = nlp(text)\n",
    "    text_tokens = [token.lemma_ for token in text]\n",
    "    tokens_without_sw= [word for word in text_tokens if not word in all_stopwords]\n",
    "    return \" \".join(tokens_without_sw)"
   ]
  },
  {
   "cell_type": "code",
   "execution_count": 9,
   "metadata": {},
   "outputs": [],
   "source": [
    "training_sentences = np.array(list(map(text_processing, training_sentences)))\n",
    "testing_sentences = np.array(list(map(text_processing, testing_sentences)))"
   ]
  },
  {
   "cell_type": "code",
   "execution_count": 16,
   "metadata": {},
   "outputs": [],
   "source": [
    "from tensorflow.keras.preprocessing.text import Tokenizer\n",
    "from tensorflow.keras.preprocessing.sequence import pad_sequences"
   ]
  },
  {
   "cell_type": "code",
   "execution_count": 17,
   "metadata": {},
   "outputs": [],
   "source": [
    "voc_size = 10000\n",
    "max_len = 70\n",
    "embedding_dim = 16\n",
    "trunc_type='post'\n",
    "oov_tok = \"<OOV>\""
   ]
  },
  {
   "cell_type": "code",
   "execution_count": 18,
   "metadata": {},
   "outputs": [],
   "source": [
    "tokenizer = Tokenizer(num_words = voc_size, oov_token=oov_tok)\n",
    "tokenizer.fit_on_texts(training_sentences)\n",
    "word_index = tokenizer.word_index\n",
    "sequences = tokenizer.texts_to_sequences(training_sentences)\n",
    "padded = pad_sequences(sequences,maxlen=max_len, truncating=trunc_type)\n",
    "\n",
    "testing_sequences = tokenizer.texts_to_sequences(testing_sentences)\n",
    "testing_padded = pad_sequences(testing_sequences,maxlen=max_len)"
   ]
  },
  {
   "cell_type": "code",
   "execution_count": 19,
   "metadata": {},
   "outputs": [
    {
     "name": "stdout",
     "output_type": "stream",
     "text": [
      "Model: \"sequential_1\"\n",
      "_________________________________________________________________\n",
      "Layer (type)                 Output Shape              Param #   \n",
      "=================================================================\n",
      "embedding_1 (Embedding)      (None, 70, 16)            160000    \n",
      "_________________________________________________________________\n",
      "bidirectional_1 (Bidirection (None, 128)               41472     \n",
      "_________________________________________________________________\n",
      "dense_2 (Dense)              (None, 32)                4128      \n",
      "_________________________________________________________________\n",
      "dense_3 (Dense)              (None, 1)                 33        \n",
      "=================================================================\n",
      "Total params: 205,633\n",
      "Trainable params: 205,633\n",
      "Non-trainable params: 0\n",
      "_________________________________________________________________\n"
     ]
    }
   ],
   "source": [
    "model = tf.keras.Sequential([\n",
    "    tf.keras.layers.Embedding(voc_size, embedding_dim, input_length=max_len),\n",
    "    tf.keras.layers.Bidirectional(tf.keras.layers.LSTM(64)),\n",
    "    tf.keras.layers.Dense(32, activation='relu'),\n",
    "    tf.keras.layers.Dense(1, activation='sigmoid')\n",
    "])\n",
    "model.compile(loss='binary_crossentropy',optimizer='adam',metrics=['accuracy'])\n",
    "model.summary()"
   ]
  },
  {
   "cell_type": "code",
   "execution_count": 20,
   "metadata": {},
   "outputs": [
    {
     "name": "stdout",
     "output_type": "stream",
     "text": [
      "Epoch 1/30\n",
      "625/625 [==============================] - 6s 10ms/step - loss: 0.5086 - accuracy: 0.7402 - val_loss: 0.4473 - val_accuracy: 0.7901\n",
      "Epoch 2/30\n",
      "625/625 [==============================] - 6s 9ms/step - loss: 0.3342 - accuracy: 0.8569 - val_loss: 0.4622 - val_accuracy: 0.7851\n",
      "Epoch 3/30\n",
      "625/625 [==============================] - 6s 9ms/step - loss: 0.2526 - accuracy: 0.8970 - val_loss: 0.4899 - val_accuracy: 0.7940\n",
      "Epoch 4/30\n",
      "625/625 [==============================] - 6s 9ms/step - loss: 0.1840 - accuracy: 0.9292 - val_loss: 0.5606 - val_accuracy: 0.7860\n",
      "Epoch 5/30\n",
      "625/625 [==============================] - 6s 10ms/step - loss: 0.1367 - accuracy: 0.9477 - val_loss: 0.6397 - val_accuracy: 0.7840\n",
      "Epoch 6/30\n",
      "625/625 [==============================] - 6s 9ms/step - loss: 0.1044 - accuracy: 0.9631 - val_loss: 0.7676 - val_accuracy: 0.7839\n",
      "Epoch 7/30\n",
      "625/625 [==============================] - 6s 9ms/step - loss: 0.0808 - accuracy: 0.9710 - val_loss: 0.8707 - val_accuracy: 0.7784\n",
      "Epoch 8/30\n",
      "625/625 [==============================] - 6s 9ms/step - loss: 0.0622 - accuracy: 0.9794 - val_loss: 0.9611 - val_accuracy: 0.7699\n",
      "Epoch 9/30\n",
      "625/625 [==============================] - 6s 9ms/step - loss: 0.0492 - accuracy: 0.9839 - val_loss: 1.0936 - val_accuracy: 0.7740\n",
      "Epoch 10/30\n",
      "625/625 [==============================] - 6s 9ms/step - loss: 0.0409 - accuracy: 0.9865 - val_loss: 1.2649 - val_accuracy: 0.7687\n",
      "Epoch 11/30\n",
      "625/625 [==============================] - 6s 9ms/step - loss: 0.0333 - accuracy: 0.9890 - val_loss: 1.3872 - val_accuracy: 0.7733\n",
      "Epoch 12/30\n",
      "625/625 [==============================] - 6s 9ms/step - loss: 0.0281 - accuracy: 0.9908 - val_loss: 1.4053 - val_accuracy: 0.7550\n",
      "Epoch 13/30\n",
      "625/625 [==============================] - 6s 9ms/step - loss: 0.0256 - accuracy: 0.9908 - val_loss: 1.4316 - val_accuracy: 0.7603\n",
      "Epoch 14/30\n",
      "625/625 [==============================] - 6s 9ms/step - loss: 0.0231 - accuracy: 0.9922 - val_loss: 1.6510 - val_accuracy: 0.7703\n",
      "Epoch 15/30\n",
      "625/625 [==============================] - 6s 9ms/step - loss: 0.0161 - accuracy: 0.9946 - val_loss: 1.7295 - val_accuracy: 0.7615\n",
      "Epoch 16/30\n",
      "625/625 [==============================] - 6s 10ms/step - loss: 0.0159 - accuracy: 0.9949 - val_loss: 1.7058 - val_accuracy: 0.7588\n",
      "Epoch 17/30\n",
      "625/625 [==============================] - 7s 11ms/step - loss: 0.0183 - accuracy: 0.9944 - val_loss: 1.6107 - val_accuracy: 0.7611\n",
      "Epoch 18/30\n",
      "625/625 [==============================] - 6s 9ms/step - loss: 0.0154 - accuracy: 0.9943 - val_loss: 1.7835 - val_accuracy: 0.7652\n",
      "Epoch 19/30\n",
      "625/625 [==============================] - 6s 10ms/step - loss: 0.0107 - accuracy: 0.9962 - val_loss: 1.8974 - val_accuracy: 0.7603\n",
      "Epoch 20/30\n",
      "625/625 [==============================] - 6s 9ms/step - loss: 0.0054 - accuracy: 0.9982 - val_loss: 2.0919 - val_accuracy: 0.7570\n",
      "Epoch 21/30\n",
      "625/625 [==============================] - 6s 9ms/step - loss: 0.0042 - accuracy: 0.9984 - val_loss: 2.4826 - val_accuracy: 0.7611\n",
      "Epoch 22/30\n",
      "625/625 [==============================] - 6s 10ms/step - loss: 0.0087 - accuracy: 0.9971 - val_loss: 2.0275 - val_accuracy: 0.7575\n",
      "Epoch 23/30\n",
      "625/625 [==============================] - 6s 9ms/step - loss: 0.0101 - accuracy: 0.9966 - val_loss: 2.0162 - val_accuracy: 0.7597\n",
      "Epoch 24/30\n",
      "625/625 [==============================] - 6s 10ms/step - loss: 0.0077 - accuracy: 0.9973 - val_loss: 2.1805 - val_accuracy: 0.7515\n",
      "Epoch 25/30\n",
      "625/625 [==============================] - 6s 9ms/step - loss: 0.0065 - accuracy: 0.9977 - val_loss: 2.2604 - val_accuracy: 0.7576\n",
      "Epoch 26/30\n",
      "625/625 [==============================] - 6s 9ms/step - loss: 0.0054 - accuracy: 0.9985 - val_loss: 2.2805 - val_accuracy: 0.7588\n",
      "Epoch 27/30\n",
      "625/625 [==============================] - 6s 9ms/step - loss: 0.0040 - accuracy: 0.9985 - val_loss: 2.3140 - val_accuracy: 0.7563\n",
      "Epoch 28/30\n",
      "625/625 [==============================] - 6s 9ms/step - loss: 0.0025 - accuracy: 0.9991 - val_loss: 2.5090 - val_accuracy: 0.7469\n",
      "Epoch 29/30\n",
      "625/625 [==============================] - 6s 10ms/step - loss: 0.0016 - accuracy: 0.9995 - val_loss: 2.8500 - val_accuracy: 0.7554\n",
      "Epoch 30/30\n",
      "625/625 [==============================] - 6s 9ms/step - loss: 0.0063 - accuracy: 0.9978 - val_loss: 2.5514 - val_accuracy: 0.7475\n"
     ]
    }
   ],
   "source": [
    "num_epochs = 30\n",
    "history = model.fit(padded, training_labels, epochs=num_epochs, validation_data=(testing_padded, testing_labels))"
   ]
  },
  {
   "cell_type": "code",
   "execution_count": 21,
   "metadata": {},
   "outputs": [
    {
     "data": {
      "image/png": "[encoded data removed]",
      "text/plain": [
       "<Figure size 432x288 with 1 Axes>"
      ]
     },
     "metadata": {
      "needs_background": "light"
     },
     "output_type": "display_data"
    },
    {
     "data": {
      "image/png": "[encoded data removed]",
      "text/plain": [
       "<Figure size 432x288 with 1 Axes>"
      ]
     },
     "metadata": {
      "needs_background": "light"
     },
     "output_type": "display_data"
    }
   ],
   "source": [
    "import matplotlib.pyplot as plt\n",
    "\n",
    "\n",
    "def plot_graphs(history, string):\n",
    "    plt.plot(history.history[string])\n",
    "    plt.plot(history.history['val_'+string])\n",
    "    plt.xlabel(\"Epochs\")\n",
    "    plt.ylabel(string)\n",
    "    plt.legend([string, 'val_'+string])\n",
    "    plt.show()\n",
    "\n",
    "plot_graphs(history, \"accuracy\")\n",
    "plot_graphs(history, \"loss\")"
   ]
  },
  {
   "cell_type": "code",
   "execution_count": 25,
   "metadata": {},
   "outputs": [
    {
     "name": "stdout",
     "output_type": "stream",
     "text": [
      "Model: \"sequential_2\"\n",
      "_________________________________________________________________\n",
      "Layer (type)                 Output Shape              Param #   \n",
      "=================================================================\n",
      "embedding_5 (Embedding)      (None, 70, 16)            160000    \n",
      "_________________________________________________________________\n",
      "bidirectional_2 (Bidirection (None, 70, 128)           41472     \n",
      "_________________________________________________________________\n",
      "bidirectional_3 (Bidirection (None, 128)               98816     \n",
      "_________________________________________________________________\n",
      "dense_4 (Dense)              (None, 32)                4128      \n",
      "_________________________________________________________________\n",
      "dense_5 (Dense)              (None, 1)                 33        \n",
      "=================================================================\n",
      "Total params: 304,449\n",
      "Trainable params: 304,449\n",
      "Non-trainable params: 0\n",
      "_________________________________________________________________\n"
     ]
    }
   ],
   "source": [
    "model_2 = tf.keras.Sequential([\n",
    "    tf.keras.layers.Embedding(voc_size, embedding_dim, input_length=max_len),\n",
    "    tf.keras.layers.Bidirectional(tf.keras.layers.LSTM(64, return_sequences=True)),\n",
    "    tf.keras.layers.Bidirectional(tf.keras.layers.LSTM(64)),\n",
    "    tf.keras.layers.Dense(32, activation='relu'),\n",
    "    tf.keras.layers.Dense(1, activation='sigmoid')\n",
    "])\n",
    "model_2.compile(loss='binary_crossentropy',optimizer='adam',metrics=['accuracy'])\n",
    "model_2.summary()"
   ]
  },
  {
   "cell_type": "code",
   "execution_count": 26,
   "metadata": {},
   "outputs": [
    {
     "name": "stdout",
     "output_type": "stream",
     "text": [
      "Epoch 1/30\n",
      "625/625 [==============================] - 10s 16ms/step - loss: 0.5112 - accuracy: 0.7359 - val_loss: 0.4414 - val_accuracy: 0.7906\n",
      "Epoch 2/30\n",
      "625/625 [==============================] - 9s 15ms/step - loss: 0.3283 - accuracy: 0.8569 - val_loss: 0.4499 - val_accuracy: 0.7959\n",
      "Epoch 3/30\n",
      "625/625 [==============================] - 10s 15ms/step - loss: 0.2469 - accuracy: 0.9030 - val_loss: 0.4929 - val_accuracy: 0.7842\n",
      "Epoch 4/30\n",
      "625/625 [==============================] - 10s 16ms/step - loss: 0.1803 - accuracy: 0.9298 - val_loss: 0.5964 - val_accuracy: 0.7900\n",
      "Epoch 5/30\n",
      "625/625 [==============================] - 13s 20ms/step - loss: 0.1322 - accuracy: 0.9509 - val_loss: 0.6609 - val_accuracy: 0.7828\n",
      "Epoch 6/30\n",
      "625/625 [==============================] - 13s 20ms/step - loss: 0.1025 - accuracy: 0.9625 - val_loss: 0.7560 - val_accuracy: 0.7743\n",
      "Epoch 7/30\n",
      "625/625 [==============================] - 13s 21ms/step - loss: 0.0778 - accuracy: 0.9732 - val_loss: 0.8268 - val_accuracy: 0.7748\n",
      "Epoch 8/30\n",
      "625/625 [==============================] - 13s 20ms/step - loss: 0.0657 - accuracy: 0.9777 - val_loss: 0.8812 - val_accuracy: 0.7697\n",
      "Epoch 9/30\n",
      "625/625 [==============================] - 13s 20ms/step - loss: 0.0521 - accuracy: 0.9816 - val_loss: 1.0162 - val_accuracy: 0.7712\n",
      "Epoch 10/30\n",
      "625/625 [==============================] - 13s 20ms/step - loss: 0.0430 - accuracy: 0.9852 - val_loss: 1.0914 - val_accuracy: 0.7621\n",
      "Epoch 11/30\n",
      "625/625 [==============================] - 11s 18ms/step - loss: 0.0352 - accuracy: 0.9880 - val_loss: 1.3955 - val_accuracy: 0.7673\n",
      "Epoch 12/30\n",
      "625/625 [==============================] - 13s 20ms/step - loss: 0.0293 - accuracy: 0.9906 - val_loss: 1.3976 - val_accuracy: 0.7702\n",
      "Epoch 13/30\n",
      "625/625 [==============================] - 13s 20ms/step - loss: 0.0234 - accuracy: 0.9916 - val_loss: 1.3862 - val_accuracy: 0.7563\n",
      "Epoch 14/30\n",
      "625/625 [==============================] - 13s 20ms/step - loss: 0.0198 - accuracy: 0.9931 - val_loss: 1.4650 - val_accuracy: 0.7579\n",
      "Epoch 15/30\n",
      "625/625 [==============================] - 13s 20ms/step - loss: 0.0178 - accuracy: 0.9940 - val_loss: 1.5717 - val_accuracy: 0.7581\n",
      "Epoch 16/30\n",
      "625/625 [==============================] - 13s 20ms/step - loss: 0.0170 - accuracy: 0.9944 - val_loss: 1.5248 - val_accuracy: 0.7556\n",
      "Epoch 17/30\n",
      "625/625 [==============================] - 13s 20ms/step - loss: 0.0140 - accuracy: 0.9955 - val_loss: 1.6196 - val_accuracy: 0.7620\n",
      "Epoch 18/30\n",
      "625/625 [==============================] - 11s 17ms/step - loss: 0.0136 - accuracy: 0.9955 - val_loss: 1.6995 - val_accuracy: 0.7590\n",
      "Epoch 19/30\n",
      "625/625 [==============================] - 10s 16ms/step - loss: 0.0111 - accuracy: 0.9963 - val_loss: 1.5859 - val_accuracy: 0.7503\n",
      "Epoch 20/30\n",
      "625/625 [==============================] - 11s 18ms/step - loss: 0.0108 - accuracy: 0.9965 - val_loss: 1.6204 - val_accuracy: 0.7502\n",
      "Epoch 21/30\n",
      "625/625 [==============================] - 10s 15ms/step - loss: 0.0062 - accuracy: 0.9979 - val_loss: 1.8881 - val_accuracy: 0.7550\n",
      "Epoch 22/30\n",
      "625/625 [==============================] - 10s 17ms/step - loss: 0.0073 - accuracy: 0.9978 - val_loss: 1.8171 - val_accuracy: 0.7551\n",
      "Epoch 23/30\n",
      "625/625 [==============================] - 11s 17ms/step - loss: 0.0075 - accuracy: 0.9975 - val_loss: 1.9119 - val_accuracy: 0.7561\n",
      "Epoch 24/30\n",
      "625/625 [==============================] - 10s 15ms/step - loss: 0.0085 - accuracy: 0.9970 - val_loss: 1.7577 - val_accuracy: 0.7520\n",
      "Epoch 25/30\n",
      "625/625 [==============================] - 11s 18ms/step - loss: 0.0059 - accuracy: 0.9980 - val_loss: 2.0768 - val_accuracy: 0.7582\n",
      "Epoch 26/30\n",
      "625/625 [==============================] - 10s 17ms/step - loss: 0.0035 - accuracy: 0.9987 - val_loss: 1.9923 - val_accuracy: 0.7548\n",
      "Epoch 27/30\n",
      "625/625 [==============================] - 10s 15ms/step - loss: 0.0055 - accuracy: 0.9983 - val_loss: 1.9417 - val_accuracy: 0.7523\n",
      "Epoch 28/30\n",
      "625/625 [==============================] - 12s 19ms/step - loss: 0.0073 - accuracy: 0.9979 - val_loss: 1.8830 - val_accuracy: 0.7527\n",
      "Epoch 29/30\n",
      "625/625 [==============================] - 9s 15ms/step - loss: 0.0054 - accuracy: 0.9980 - val_loss: 2.0103 - val_accuracy: 0.7585\n",
      "Epoch 30/30\n",
      "625/625 [==============================] - 11s 18ms/step - loss: 0.0033 - accuracy: 0.9991 - val_loss: 2.2167 - val_accuracy: 0.7535\n"
     ]
    }
   ],
   "source": [
    "num_epochs = 30\n",
    "history_2 = model_2.fit(padded, training_labels, epochs=num_epochs, validation_data=(testing_padded, testing_labels))"
   ]
  },
  {
   "cell_type": "code",
   "execution_count": 27,
   "metadata": {},
   "outputs": [
    {
     "data": {
      "image/png": "[encoded data removed]",
      "text/plain": [
       "<Figure size 432x288 with 1 Axes>"
      ]
     },
     "metadata": {
      "needs_background": "light"
     },
     "output_type": "display_data"
    },
    {
     "data": {
      "image/png": "[encoded data removed]",
      "text/plain": [
       "<Figure size 432x288 with 1 Axes>"
      ]
     },
     "metadata": {
      "needs_background": "light"
     },
     "output_type": "display_data"
    }
   ],
   "source": [
    "plot_graphs(history_2, \"accuracy\")\n",
    "plot_graphs(history_2, \"loss\")"
   ]
  },
  {
   "cell_type": "code",
   "execution_count": 28,
   "metadata": {},
   "outputs": [
    {
     "name": "stdout",
     "output_type": "stream",
     "text": [
      "Model: \"sequential_3\"\n",
      "_________________________________________________________________\n",
      "Layer (type)                 Output Shape              Param #   \n",
      "=================================================================\n",
      "embedding_6 (Embedding)      (None, 70, 16)            160000    \n",
      "_________________________________________________________________\n",
      "bidirectional_4 (Bidirection (None, 70, 128)           41472     \n",
      "_________________________________________________________________\n",
      "bidirectional_5 (Bidirection (None, 128)               98816     \n",
      "_________________________________________________________________\n",
      "dropout (Dropout)            (None, 128)               0         \n",
      "_________________________________________________________________\n",
      "dense_6 (Dense)              (None, 32)                4128      \n",
      "_________________________________________________________________\n",
      "dense_7 (Dense)              (None, 1)                 33        \n",
      "=================================================================\n",
      "Total params: 304,449\n",
      "Trainable params: 304,449\n",
      "Non-trainable params: 0\n",
      "_________________________________________________________________\n"
     ]
    }
   ],
   "source": [
    "model_3 = tf.keras.Sequential([\n",
    "    tf.keras.layers.Embedding(voc_size, embedding_dim, input_length=max_len),\n",
    "    tf.keras.layers.Bidirectional(tf.keras.layers.LSTM(64, return_sequences=True)),\n",
    "    tf.keras.layers.Bidirectional(tf.keras.layers.LSTM(64)),\n",
    "    tf.keras.layers.Dropout(0.5),\n",
    "    tf.keras.layers.Dense(32, activation='relu'),\n",
    "    tf.keras.layers.Dense(1, activation='sigmoid')\n",
    "])\n",
    "model_3.compile(loss='binary_crossentropy',optimizer='adam',metrics=['accuracy'])\n",
    "model_3.summary()"
   ]
  },
  {
   "cell_type": "code",
   "execution_count": 29,
   "metadata": {},
   "outputs": [
    {
     "name": "stdout",
     "output_type": "stream",
     "text": [
      "Epoch 1/30\n",
      "625/625 [==============================] - 10s 16ms/step - loss: 0.5192 - accuracy: 0.7290 - val_loss: 0.4461 - val_accuracy: 0.7900\n",
      "Epoch 2/30\n",
      "625/625 [==============================] - 10s 15ms/step - loss: 0.3319 - accuracy: 0.8585 - val_loss: 0.4527 - val_accuracy: 0.7937\n",
      "Epoch 3/30\n",
      "625/625 [==============================] - 10s 15ms/step - loss: 0.2389 - accuracy: 0.9030 - val_loss: 0.4859 - val_accuracy: 0.7854\n",
      "Epoch 4/30\n",
      "625/625 [==============================] - 10s 15ms/step - loss: 0.1743 - accuracy: 0.9344 - val_loss: 0.6506 - val_accuracy: 0.7913\n",
      "Epoch 5/30\n",
      "625/625 [==============================] - 13s 20ms/step - loss: 0.1310 - accuracy: 0.9524 - val_loss: 0.7048 - val_accuracy: 0.7767\n",
      "Epoch 6/30\n",
      "625/625 [==============================] - 13s 20ms/step - loss: 0.0995 - accuracy: 0.9646 - val_loss: 0.7917 - val_accuracy: 0.7831\n",
      "Epoch 7/30\n",
      "625/625 [==============================] - 13s 21ms/step - loss: 0.0780 - accuracy: 0.9717 - val_loss: 0.8955 - val_accuracy: 0.7725\n",
      "Epoch 8/30\n",
      "625/625 [==============================] - 13s 20ms/step - loss: 0.0630 - accuracy: 0.9782 - val_loss: 0.9145 - val_accuracy: 0.7748\n",
      "Epoch 9/30\n",
      "625/625 [==============================] - 13s 21ms/step - loss: 0.0502 - accuracy: 0.9836 - val_loss: 1.1570 - val_accuracy: 0.7640\n",
      "Epoch 10/30\n",
      "625/625 [==============================] - 13s 20ms/step - loss: 0.0395 - accuracy: 0.9872 - val_loss: 1.1201 - val_accuracy: 0.7614\n",
      "Epoch 11/30\n",
      "625/625 [==============================] - 13s 20ms/step - loss: 0.0380 - accuracy: 0.9875 - val_loss: 1.1649 - val_accuracy: 0.7609\n",
      "Epoch 12/30\n",
      "625/625 [==============================] - 13s 20ms/step - loss: 0.0269 - accuracy: 0.9908 - val_loss: 1.3209 - val_accuracy: 0.7626\n",
      "Epoch 13/30\n",
      "625/625 [==============================] - 13s 20ms/step - loss: 0.0232 - accuracy: 0.9923 - val_loss: 1.3973 - val_accuracy: 0.7621\n",
      "Epoch 14/30\n",
      "625/625 [==============================] - 11s 17ms/step - loss: 0.0221 - accuracy: 0.9929 - val_loss: 1.4084 - val_accuracy: 0.7640\n",
      "Epoch 15/30\n",
      "625/625 [==============================] - 13s 20ms/step - loss: 0.0187 - accuracy: 0.9940 - val_loss: 1.5204 - val_accuracy: 0.7633\n",
      "Epoch 16/30\n",
      "625/625 [==============================] - 10s 16ms/step - loss: 0.0134 - accuracy: 0.9955 - val_loss: 1.6901 - val_accuracy: 0.7633\n",
      "Epoch 17/30\n",
      "625/625 [==============================] - 12s 19ms/step - loss: 0.0113 - accuracy: 0.9963 - val_loss: 1.6515 - val_accuracy: 0.7567\n",
      "Epoch 18/30\n",
      "625/625 [==============================] - 10s 16ms/step - loss: 0.0145 - accuracy: 0.9954 - val_loss: 1.6660 - val_accuracy: 0.7646\n",
      "Epoch 19/30\n",
      "625/625 [==============================] - 11s 18ms/step - loss: 0.0105 - accuracy: 0.9961 - val_loss: 1.6913 - val_accuracy: 0.7557\n",
      "Epoch 20/30\n",
      "625/625 [==============================] - 10s 15ms/step - loss: 0.0075 - accuracy: 0.9976 - val_loss: 1.8753 - val_accuracy: 0.7554\n",
      "Epoch 21/30\n",
      "625/625 [==============================] - 11s 18ms/step - loss: 0.0076 - accuracy: 0.9972 - val_loss: 1.9833 - val_accuracy: 0.7611\n",
      "Epoch 22/30\n",
      "625/625 [==============================] - 10s 16ms/step - loss: 0.0087 - accuracy: 0.9973 - val_loss: 1.9820 - val_accuracy: 0.7593\n",
      "Epoch 23/30\n",
      "625/625 [==============================] - 11s 18ms/step - loss: 0.0067 - accuracy: 0.9976 - val_loss: 2.0999 - val_accuracy: 0.7582\n",
      "Epoch 24/30\n",
      "625/625 [==============================] - 10s 15ms/step - loss: 0.0055 - accuracy: 0.9983 - val_loss: 2.2233 - val_accuracy: 0.7563\n",
      "Epoch 25/30\n",
      "625/625 [==============================] - 12s 19ms/step - loss: 0.0042 - accuracy: 0.9986 - val_loss: 2.3120 - val_accuracy: 0.7602\n",
      "Epoch 26/30\n",
      "625/625 [==============================] - 10s 16ms/step - loss: 0.0069 - accuracy: 0.9977 - val_loss: 1.8927 - val_accuracy: 0.7639\n",
      "Epoch 27/30\n",
      "625/625 [==============================] - 11s 18ms/step - loss: 0.0068 - accuracy: 0.9977 - val_loss: 1.8785 - val_accuracy: 0.7556\n",
      "Epoch 28/30\n",
      "625/625 [==============================] - 11s 17ms/step - loss: 0.0050 - accuracy: 0.9986 - val_loss: 1.9150 - val_accuracy: 0.7633\n",
      "Epoch 29/30\n",
      "625/625 [==============================] - 11s 18ms/step - loss: 0.0050 - accuracy: 0.9985 - val_loss: 2.0723 - val_accuracy: 0.7639\n",
      "Epoch 30/30\n",
      "625/625 [==============================] - 11s 18ms/step - loss: 0.0054 - accuracy: 0.9981 - val_loss: 2.0858 - val_accuracy: 0.7599\n"
     ]
    }
   ],
   "source": [
    "num_epochs = 30\n",
    "history_3 = model_3.fit(padded, training_labels, epochs=num_epochs, validation_data=(testing_padded, testing_labels))"
   ]
  },
  {
   "cell_type": "code",
   "execution_count": 30,
   "metadata": {},
   "outputs": [
    {
     "data": {
      "image/png": "[encoded data removed]",
      "text/plain": [
       "<Figure size 432x288 with 1 Axes>"
      ]
     },
     "metadata": {
      "needs_background": "light"
     },
     "output_type": "display_data"
    },
    {
     "data": {
      "image/png": "[encoded data removed]",
      "text/plain": [
       "<Figure size 432x288 with 1 Axes>"
      ]
     },
     "metadata": {
      "needs_background": "light"
     },
     "output_type": "display_data"
    }
   ],
   "source": [
    "plot_graphs(history_3, \"accuracy\")\n",
    "plot_graphs(history_3, \"loss\")"
   ]
  }
 ],
 "metadata": {
  "kernelspec": {
   "display_name": "Python 3",
   "language": "python",
   "name": "python3"
  },
  "language_info": {
   "codemirror_mode": {
    "name": "ipython",
    "version": 3
   },
   "file_extension": ".py",
   "mimetype": "text/x-python",
   "name": "python",
   "nbconvert_exporter": "python",
   "pygments_lexer": "ipython3",
   "version": "3.7.6"
  }
 },
 "nbformat": 4,
 "nbformat_minor": 4
}
