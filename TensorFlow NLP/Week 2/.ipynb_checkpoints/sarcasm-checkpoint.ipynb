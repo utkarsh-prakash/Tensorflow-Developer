{
 "cells": [
  {
   "cell_type": "code",
   "execution_count": 1,
   "metadata": {
    "id": "XYYDvoskkE61"
   },
   "outputs": [],
   "source": [
    "import json\n",
    "import tensorflow as tf\n",
    "\n",
    "from tensorflow.keras.preprocessing.text import Tokenizer\n",
    "from tensorflow.keras.preprocessing.sequence import pad_sequences"
   ]
  },
  {
   "cell_type": "code",
   "execution_count": 2,
   "metadata": {
    "id": "0eJSTTYnkJQd"
   },
   "outputs": [],
   "source": [
    "vocab_size = 1000\n",
    "embedding_dim = 16\n",
    "max_length = 32\n",
    "trunc_type='post'\n",
    "padding_type='post'\n",
    "oov_tok = \"<OOV>\"\n",
    "training_size = 20000"
   ]
  },
  {
   "cell_type": "code",
   "execution_count": 3,
   "metadata": {
    "id": "oaLaaqhNkUPd"
   },
   "outputs": [],
   "source": [
    "with open(\"data/sarcasm.json\", 'r') as f:\n",
    "    datastore = json.load(f)\n",
    "\n",
    "sentences = []\n",
    "labels = []\n",
    "\n",
    "for item in datastore:\n",
    "    sentences.append(item['headline'])\n",
    "    labels.append(item['is_sarcastic'])"
   ]
  },
  {
   "cell_type": "code",
   "execution_count": 4,
   "metadata": {
    "id": "S1sD-7v0kYWk"
   },
   "outputs": [],
   "source": [
    "training_sentences = sentences[0:training_size]\n",
    "testing_sentences = sentences[training_size:]\n",
    "training_labels = labels[0:training_size]\n",
    "testing_labels = labels[training_size:]"
   ]
  },
  {
   "cell_type": "code",
   "execution_count": 5,
   "metadata": {},
   "outputs": [
    {
     "name": "stdout",
     "output_type": "stream",
     "text": [
      "coworker who already breathes, chews loudly thinking about getting into arrhythmically drumming on desk\n",
      "Is Sarcastic? Yes\n"
     ]
    }
   ],
   "source": [
    "import random\n",
    "index = random.randint(0,training_size-1)\n",
    "print(training_sentences[index])\n",
    "ref = {0:'No', 1:'Yes'}\n",
    "print(\"Is Sarcastic?\", ref[training_labels[index]])"
   ]
  },
  {
   "cell_type": "code",
   "execution_count": 6,
   "metadata": {
    "id": "3u8UB0MCkZ5N"
   },
   "outputs": [],
   "source": [
    "tokenizer = Tokenizer(num_words=vocab_size, oov_token=oov_tok)\n",
    "tokenizer.fit_on_texts(training_sentences)\n",
    "\n",
    "word_index = tokenizer.word_index\n",
    "\n",
    "training_sequences = tokenizer.texts_to_sequences(training_sentences)\n",
    "training_padded = pad_sequences(training_sequences, maxlen=max_length, padding=padding_type, truncating=trunc_type)\n",
    "\n",
    "testing_sequences = tokenizer.texts_to_sequences(testing_sentences)\n",
    "testing_padded = pad_sequences(testing_sequences, maxlen=max_length, padding=padding_type, truncating=trunc_type)"
   ]
  },
  {
   "cell_type": "code",
   "execution_count": 7,
   "metadata": {
    "id": "GrAlWBKf99Ya"
   },
   "outputs": [],
   "source": [
    "# Need this block to get it to work with TensorFlow 2.x\n",
    "import numpy as np\n",
    "training_padded = np.array(training_padded)\n",
    "training_labels = np.array(training_labels)\n",
    "testing_padded = np.array(testing_padded)\n",
    "testing_labels = np.array(testing_labels)"
   ]
  },
  {
   "cell_type": "code",
   "execution_count": 8,
   "metadata": {
    "id": "FufaT4vlkiDE"
   },
   "outputs": [],
   "source": [
    "model = tf.keras.Sequential([\n",
    "    tf.keras.layers.Embedding(vocab_size, embedding_dim, input_length=max_length),\n",
    "    tf.keras.layers.GlobalAveragePooling1D(),\n",
    "    tf.keras.layers.Dense(24, activation='relu'),\n",
    "    tf.keras.layers.Dense(1, activation='sigmoid')\n",
    "])\n",
    "model.compile(loss='binary_crossentropy',optimizer='adam',metrics=['accuracy'])"
   ]
  },
  {
   "cell_type": "code",
   "execution_count": 9,
   "metadata": {
    "id": "XfDt1hmYkiys"
   },
   "outputs": [
    {
     "name": "stdout",
     "output_type": "stream",
     "text": [
      "Model: \"sequential\"\n",
      "_________________________________________________________________\n",
      "Layer (type)                 Output Shape              Param #   \n",
      "=================================================================\n",
      "embedding (Embedding)        (None, 32, 16)            16000     \n",
      "_________________________________________________________________\n",
      "global_average_pooling1d (Gl (None, 16)                0         \n",
      "_________________________________________________________________\n",
      "dense (Dense)                (None, 24)                408       \n",
      "_________________________________________________________________\n",
      "dense_1 (Dense)              (None, 1)                 25        \n",
      "=================================================================\n",
      "Total params: 16,433\n",
      "Trainable params: 16,433\n",
      "Non-trainable params: 0\n",
      "_________________________________________________________________\n"
     ]
    }
   ],
   "source": [
    "model.summary()\n"
   ]
  },
  {
   "cell_type": "code",
   "execution_count": 10,
   "metadata": {
    "id": "2DTKQFf1kkyc"
   },
   "outputs": [
    {
     "name": "stdout",
     "output_type": "stream",
     "text": [
      "Epoch 1/30\n",
      "625/625 - 2s - loss: 0.6028 - accuracy: 0.6701 - val_loss: 0.4652 - val_accuracy: 0.7939\n",
      "Epoch 2/30\n",
      "625/625 - 1s - loss: 0.4093 - accuracy: 0.8158 - val_loss: 0.4159 - val_accuracy: 0.8025\n",
      "Epoch 3/30\n",
      "625/625 - 1s - loss: 0.3738 - accuracy: 0.8300 - val_loss: 0.3995 - val_accuracy: 0.8164\n",
      "Epoch 4/30\n",
      "625/625 - 1s - loss: 0.3620 - accuracy: 0.8366 - val_loss: 0.4053 - val_accuracy: 0.8143\n",
      "Epoch 5/30\n",
      "625/625 - 1s - loss: 0.3565 - accuracy: 0.8388 - val_loss: 0.4061 - val_accuracy: 0.8065\n",
      "Epoch 6/30\n",
      "625/625 - 1s - loss: 0.3537 - accuracy: 0.8392 - val_loss: 0.4057 - val_accuracy: 0.8149\n",
      "Epoch 7/30\n",
      "625/625 - 1s - loss: 0.3518 - accuracy: 0.8407 - val_loss: 0.4047 - val_accuracy: 0.8158\n",
      "Epoch 8/30\n",
      "625/625 - 1s - loss: 0.3505 - accuracy: 0.8418 - val_loss: 0.4072 - val_accuracy: 0.8101\n",
      "Epoch 9/30\n",
      "625/625 - 1s - loss: 0.3501 - accuracy: 0.8413 - val_loss: 0.4110 - val_accuracy: 0.8134\n",
      "Epoch 10/30\n",
      "625/625 - 1s - loss: 0.3483 - accuracy: 0.8415 - val_loss: 0.4095 - val_accuracy: 0.8128\n",
      "Epoch 11/30\n",
      "625/625 - 1s - loss: 0.3484 - accuracy: 0.8429 - val_loss: 0.4071 - val_accuracy: 0.8123\n",
      "Epoch 12/30\n",
      "625/625 - 1s - loss: 0.3474 - accuracy: 0.8419 - val_loss: 0.4072 - val_accuracy: 0.8131\n",
      "Epoch 13/30\n",
      "625/625 - 1s - loss: 0.3474 - accuracy: 0.8418 - val_loss: 0.4068 - val_accuracy: 0.8114\n",
      "Epoch 14/30\n",
      "625/625 - 1s - loss: 0.3472 - accuracy: 0.8407 - val_loss: 0.4085 - val_accuracy: 0.8120\n",
      "Epoch 15/30\n",
      "625/625 - 1s - loss: 0.3468 - accuracy: 0.8443 - val_loss: 0.4081 - val_accuracy: 0.8107\n",
      "Epoch 16/30\n",
      "625/625 - 1s - loss: 0.3461 - accuracy: 0.8426 - val_loss: 0.4162 - val_accuracy: 0.8104\n",
      "Epoch 17/30\n",
      "625/625 - 1s - loss: 0.3465 - accuracy: 0.8422 - val_loss: 0.4088 - val_accuracy: 0.8126\n",
      "Epoch 18/30\n",
      "625/625 - 1s - loss: 0.3458 - accuracy: 0.8432 - val_loss: 0.4135 - val_accuracy: 0.8120\n",
      "Epoch 19/30\n",
      "625/625 - 1s - loss: 0.3449 - accuracy: 0.8436 - val_loss: 0.4090 - val_accuracy: 0.8122\n",
      "Epoch 20/30\n",
      "625/625 - 1s - loss: 0.3448 - accuracy: 0.8424 - val_loss: 0.4087 - val_accuracy: 0.8125\n",
      "Epoch 21/30\n",
      "625/625 - 1s - loss: 0.3447 - accuracy: 0.8436 - val_loss: 0.4102 - val_accuracy: 0.8125\n",
      "Epoch 22/30\n",
      "625/625 - 1s - loss: 0.3433 - accuracy: 0.8447 - val_loss: 0.4097 - val_accuracy: 0.8104\n",
      "Epoch 23/30\n",
      "625/625 - 1s - loss: 0.3427 - accuracy: 0.8449 - val_loss: 0.4072 - val_accuracy: 0.8120\n",
      "Epoch 24/30\n",
      "625/625 - 1s - loss: 0.3407 - accuracy: 0.8447 - val_loss: 0.4045 - val_accuracy: 0.8141\n",
      "Epoch 25/30\n",
      "625/625 - 1s - loss: 0.3386 - accuracy: 0.8472 - val_loss: 0.4082 - val_accuracy: 0.8091\n",
      "Epoch 26/30\n",
      "625/625 - 1s - loss: 0.3356 - accuracy: 0.8468 - val_loss: 0.4054 - val_accuracy: 0.8147\n",
      "Epoch 27/30\n",
      "625/625 - 1s - loss: 0.3331 - accuracy: 0.8493 - val_loss: 0.3991 - val_accuracy: 0.8146\n",
      "Epoch 28/30\n",
      "625/625 - 1s - loss: 0.3318 - accuracy: 0.8510 - val_loss: 0.4001 - val_accuracy: 0.8170\n",
      "Epoch 29/30\n",
      "625/625 - 1s - loss: 0.3286 - accuracy: 0.8508 - val_loss: 0.3978 - val_accuracy: 0.8186\n",
      "Epoch 30/30\n",
      "625/625 - 1s - loss: 0.3272 - accuracy: 0.8515 - val_loss: 0.3972 - val_accuracy: 0.8199\n"
     ]
    }
   ],
   "source": [
    "num_epochs = 30\n",
    "history = model.fit(training_padded, \n",
    "                    training_labels, \n",
    "                    epochs=num_epochs, \n",
    "                    validation_data=(testing_padded, \n",
    "                                     testing_labels), \n",
    "                    verbose=2)"
   ]
  },
  {
   "cell_type": "code",
   "execution_count": 11,
   "metadata": {
    "id": "2HYfBKXjkmU8"
   },
   "outputs": [
    {
     "data": {
      "image/png": "[encoded data removed]",
      "text/plain": [
       "<Figure size 432x288 with 1 Axes>"
      ]
     },
     "metadata": {
      "needs_background": "light"
     },
     "output_type": "display_data"
    },
    {
     "data": {
      "image/png": "[encoded data removed]",
      "text/plain": [
       "<Figure size 432x288 with 1 Axes>"
      ]
     },
     "metadata": {
      "needs_background": "light"
     },
     "output_type": "display_data"
    }
   ],
   "source": [
    "import matplotlib.pyplot as plt\n",
    "\n",
    "\n",
    "def plot_graphs(history, string):\n",
    "    plt.plot(history.history[string])\n",
    "    plt.plot(history.history['val_'+string])\n",
    "    plt.xlabel(\"Epochs\")\n",
    "    plt.ylabel(string)\n",
    "    plt.legend([string, 'val_'+string])\n",
    "    plt.show()\n",
    "\n",
    "plot_graphs(history, \"accuracy\")\n",
    "plot_graphs(history, \"loss\")"
   ]
  },
  {
   "cell_type": "code",
   "execution_count": 12,
   "metadata": {
    "id": "7SBdAZAenvzL"
   },
   "outputs": [
    {
     "name": "stdout",
     "output_type": "stream",
     "text": [
      "former <OOV> store <OOV> <OOV> over secret <OOV> <OOV> for <OOV> <OOV> ? ? ? ? ? ? ? ? ? ? ? ? ? ? ? ? ? ? ? ?\n",
      "former versace store clerk sues over secret 'black code' for minority shoppers\n",
      "0\n"
     ]
    }
   ],
   "source": [
    "reverse_word_index = dict([(value, key) for (key, value) in word_index.items()])\n",
    "\n",
    "def decode_sentence(text):\n",
    "    return ' '.join([reverse_word_index.get(i, '?') for i in text])\n",
    "\n",
    "print(decode_sentence(training_padded[0]))\n",
    "print(training_sentences[0])\n",
    "print(labels[0])"
   ]
  },
  {
   "cell_type": "code",
   "execution_count": 13,
   "metadata": {
    "id": "c9MqihtEkzQ9"
   },
   "outputs": [
    {
     "name": "stdout",
     "output_type": "stream",
     "text": [
      "(1000, 16)\n"
     ]
    }
   ],
   "source": [
    "e = model.layers[0]\n",
    "# For dense layers get_weights()[1] will give biases\n",
    "weights = e.get_weights()[0]\n",
    "print(weights.shape) # shape: (vocab_size, embedding_dim)\n"
   ]
  },
  {
   "cell_type": "code",
   "execution_count": 14,
   "metadata": {
    "id": "LoBXVffknldU"
   },
   "outputs": [],
   "source": [
    "import io\n",
    "out_v = io.open('data/sarcasm_vecs.tsv', 'w', encoding='utf-8')\n",
    "out_m = io.open('data/sarcasm_meta.tsv', 'w', encoding='utf-8')\n",
    "for word_num in range(1, vocab_size):\n",
    "    word = reverse_word_index[word_num]\n",
    "    embeddings = weights[word_num]\n",
    "    out_m.write(word + \"\\n\")\n",
    "    out_v.write('\\t'.join([str(x) for x in embeddings]) + \"\\n\")\n",
    "out_v.close()\n",
    "out_m.close()"
   ]
  },
  {
   "cell_type": "code",
   "execution_count": 15,
   "metadata": {
    "id": "cG8-ArY-qDcz"
   },
   "outputs": [
    {
     "name": "stdout",
     "output_type": "stream",
     "text": [
      "AI that understands sarcasm can be considered advanced  - Not Sarcastic\n",
      "granny starting to fear spiders in the garden might be real  - Not Sarcastic\n",
      "game of thrones season finale showing this sunday night  - Can you BE more Sarcastic?\n"
     ]
    }
   ],
   "source": [
    "sentence = [\"AI that understands sarcasm can be considered advanced\",\n",
    "            \"granny starting to fear spiders in the garden might be real\", \n",
    "            \"game of thrones season finale showing this sunday night\"]\n",
    "sequences = tokenizer.texts_to_sequences(sentence)\n",
    "padded = pad_sequences(sequences, maxlen=max_length, padding=padding_type, truncating=trunc_type)\n",
    "def get_class(score):\n",
    "    if score>0.5: return \" - Can you BE more Sarcastic?\" \n",
    "    else: return \" - Not Sarcastic\"\n",
    "for i in range(len(sentence)):\n",
    "    print(sentence[i], get_class(model.predict(padded)[i][0]))"
   ]
  },
  {
   "cell_type": "code",
   "execution_count": null,
   "metadata": {},
   "outputs": [],
   "source": []
  }
 ],
 "metadata": {
  "accelerator": "GPU",
  "colab": {
   "collapsed_sections": [],
   "name": "Course 3 - Week 2 - Lesson 2.ipynb",
   "provenance": [],
   "toc_visible": true
  },
  "kernelspec": {
   "display_name": "Python 3",
   "language": "python",
   "name": "python3"
  },
  "language_info": {
   "codemirror_mode": {
    "name": "ipython",
    "version": 3
   },
   "file_extension": ".py",
   "mimetype": "text/x-python",
   "name": "python",
   "nbconvert_exporter": "python",
   "pygments_lexer": "ipython3",
   "version": "3.7.6"
  }
 },
 "nbformat": 4,
 "nbformat_minor": 1
}
