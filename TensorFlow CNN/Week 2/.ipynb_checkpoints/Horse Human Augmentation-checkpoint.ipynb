{
 "cells": [
  {
   "cell_type": "markdown",
   "metadata": {
    "id": "rX8mhOLljYeM"
   },
   "source": [
    "##### Copyright 2019 The TensorFlow Authors."
   ]
  },
  {
   "cell_type": "code",
   "execution_count": 1,
   "metadata": {
    "colab": {
     "base_uri": "https://localhost:8080/"
    },
    "id": "RXZT2UsyIVe_",
    "outputId": "dc05a8b4-634f-460d-b5fe-a1d570208139"
   },
   "outputs": [
    {
     "name": "stdout",
     "output_type": "stream",
     "text": [
      "--2020-11-18 18:41:16--  https://storage.googleapis.com/laurencemoroney-blog.appspot.com/horse-or-human.zip\n",
      "Resolving storage.googleapis.com (storage.googleapis.com)... 172.217.212.128, 172.217.214.128, 2607:f8b0:4001:c1c::80, ...\n",
      "Connecting to storage.googleapis.com (storage.googleapis.com)|172.217.212.128|:443... connected.\n",
      "HTTP request sent, awaiting response... 200 OK\n",
      "Length: 149574867 (143M) [application/zip]\n",
      "Saving to: ‘/tmp/horse-or-human.zip’\n",
      "\n",
      "/tmp/horse-or-human 100%[===================>] 142.65M   105MB/s    in 1.4s    \n",
      "\n",
      "2020-11-18 18:41:18 (105 MB/s) - ‘/tmp/horse-or-human.zip’ saved [149574867/149574867]\n",
      "\n",
      "--2020-11-18 18:41:18--  https://storage.googleapis.com/laurencemoroney-blog.appspot.com/validation-horse-or-human.zip\n",
      "Resolving storage.googleapis.com (storage.googleapis.com)... 74.125.129.128, 172.217.212.128, 172.217.214.128, ...\n",
      "Connecting to storage.googleapis.com (storage.googleapis.com)|74.125.129.128|:443... connected.\n",
      "HTTP request sent, awaiting response... 200 OK\n",
      "Length: 11480187 (11M) [application/zip]\n",
      "Saving to: ‘/tmp/validation-horse-or-human.zip’\n",
      "\n",
      "/tmp/validation-hor 100%[===================>]  10.95M  --.-KB/s    in 0.1s    \n",
      "\n",
      "2020-11-18 18:41:18 (74.0 MB/s) - ‘/tmp/validation-horse-or-human.zip’ saved [11480187/11480187]\n",
      "\n"
     ]
    }
   ],
   "source": [
    "import os\n",
    "import zipfile\n",
    "\n",
    "local_zip = '/tmp/horse-or-human.zip'\n",
    "zip_ref = zipfile.ZipFile(local_zip, 'r')\n",
    "zip_ref.extractall('/tmp/horse-or-human')\n",
    "local_zip = '/tmp/validation-horse-or-human.zip'\n",
    "zip_ref = zipfile.ZipFile(local_zip, 'r')\n",
    "zip_ref.extractall('/tmp/validation-horse-or-human')\n",
    "zip_ref.close()\n",
    "# Directory with our training horse pictures\n",
    "train_horse_dir = os.path.join('/tmp/horse-or-human/horses')\n",
    "\n",
    "# Directory with our training human pictures\n",
    "train_human_dir = os.path.join('/tmp/horse-or-human/humans')\n",
    "\n",
    "# Directory with our training horse pictures\n",
    "validation_horse_dir = os.path.join('/tmp/validation-horse-or-human/horses')\n",
    "\n",
    "# Directory with our training human pictures\n",
    "validation_human_dir = os.path.join('/tmp/validation-horse-or-human/humans')"
   ]
  },
  {
   "cell_type": "markdown",
   "metadata": {
    "id": "5oqBkNBJmtUv"
   },
   "source": [
    "## Building a Small Model from Scratch\n",
    "\n",
    "But before we continue, let's start defining the model:\n",
    "\n",
    "Step 1 will be to import tensorflow."
   ]
  },
  {
   "cell_type": "code",
   "execution_count": 2,
   "metadata": {
    "id": "qvfZg3LQbD-5"
   },
   "outputs": [],
   "source": [
    "import tensorflow as tf"
   ]
  },
  {
   "cell_type": "markdown",
   "metadata": {
    "id": "BnhYCP4tdqjC"
   },
   "source": [
    "We then add convolutional layers as in the previous example, and flatten the final result to feed into the densely connected layers."
   ]
  },
  {
   "cell_type": "markdown",
   "metadata": {
    "id": "gokG5HKpdtzm"
   },
   "source": [
    "Finally we add the densely connected layers. \n",
    "\n",
    "Note that because we are facing a two-class classification problem, i.e. a *binary classification problem*, we will end our network with a [*sigmoid* activation](https://wikipedia.org/wiki/Sigmoid_function), so that the output of our network will be a single scalar between 0 and 1, encoding the probability that the current image is class 1 (as opposed to class 0)."
   ]
  },
  {
   "cell_type": "code",
   "execution_count": 3,
   "metadata": {
    "id": "PixZ2s5QbYQ3"
   },
   "outputs": [],
   "source": [
    "model = tf.keras.models.Sequential([\n",
    "    # Note the input shape is the desired size of the image 300x300 with 3 bytes color\n",
    "    # This is the first convolution\n",
    "    tf.keras.layers.Conv2D(16, (3,3), activation='relu', input_shape=(300, 300, 3)),\n",
    "    tf.keras.layers.MaxPooling2D(2, 2),\n",
    "    # The second convolution\n",
    "    tf.keras.layers.Conv2D(32, (3,3), activation='relu'),\n",
    "    tf.keras.layers.MaxPooling2D(2,2),\n",
    "    # The third convolution\n",
    "    tf.keras.layers.Conv2D(64, (3,3), activation='relu'),\n",
    "    tf.keras.layers.MaxPooling2D(2,2),\n",
    "    # The fourth convolution\n",
    "    tf.keras.layers.Conv2D(64, (3,3), activation='relu'),\n",
    "    tf.keras.layers.MaxPooling2D(2,2),\n",
    "    # The fifth convolution\n",
    "    tf.keras.layers.Conv2D(64, (3,3), activation='relu'),\n",
    "    tf.keras.layers.MaxPooling2D(2,2),\n",
    "    # Flatten the results to feed into a DNN\n",
    "    tf.keras.layers.Flatten(),\n",
    "    # 512 neuron hidden layer\n",
    "    tf.keras.layers.Dense(512, activation='relu'),\n",
    "    # Only 1 output neuron. It will contain a value from 0-1 where 0 for 1 class ('horses') and 1 for the other ('humans')\n",
    "    tf.keras.layers.Dense(1, activation='sigmoid')\n",
    "])"
   ]
  },
  {
   "cell_type": "code",
   "execution_count": 4,
   "metadata": {
    "id": "8DHWhFP_uhq3"
   },
   "outputs": [],
   "source": [
    "from tensorflow.keras.optimizers import RMSprop\n",
    "\n",
    "model.compile(loss='binary_crossentropy',\n",
    "              optimizer=RMSprop(lr=1e-4),\n",
    "              metrics=['accuracy'])"
   ]
  },
  {
   "cell_type": "code",
   "execution_count": 5,
   "metadata": {
    "colab": {
     "base_uri": "https://localhost:8080/"
    },
    "id": "ClebU9NJg99G",
    "outputId": "9f388dd3-9e96-4710-a904-53a9679f8f85"
   },
   "outputs": [
    {
     "name": "stdout",
     "output_type": "stream",
     "text": [
      "Found 1027 images belonging to 2 classes.\n",
      "Found 256 images belonging to 2 classes.\n"
     ]
    }
   ],
   "source": [
    "from tensorflow.keras.preprocessing.image import ImageDataGenerator\n",
    "\n",
    "# All images will be rescaled by 1./255\n",
    "train_datagen = ImageDataGenerator(\n",
    "      rescale=1./255,\n",
    "      rotation_range=40,\n",
    "      width_shift_range=0.2,\n",
    "      height_shift_range=0.2,\n",
    "      shear_range=0.2,\n",
    "      zoom_range=0.2,\n",
    "      horizontal_flip=True,\n",
    "      fill_mode='nearest')\n",
    "\n",
    "validation_datagen = ImageDataGenerator(rescale=1/255)\n",
    "\n",
    "# Flow training images in batches of 128 using train_datagen generator\n",
    "train_generator = train_datagen.flow_from_directory(\n",
    "        '/tmp/horse-or-human/',  # This is the source directory for training images\n",
    "        target_size=(300, 300),  # All images will be resized to 150x150\n",
    "        batch_size=128,\n",
    "        # Since we use binary_crossentropy loss, we need binary labels\n",
    "        class_mode='binary')\n",
    "\n",
    "# Flow training images in batches of 128 using train_datagen generator\n",
    "validation_generator = validation_datagen.flow_from_directory(\n",
    "        '/tmp/validation-horse-or-human/',  # This is the source directory for training images\n",
    "        target_size=(300, 300),  # All images will be resized to 150x150\n",
    "        batch_size=32,\n",
    "        # Since we use binary_crossentropy loss, we need binary labels\n",
    "        class_mode='binary')"
   ]
  },
  {
   "cell_type": "code",
   "execution_count": 6,
   "metadata": {
    "colab": {
     "base_uri": "https://localhost:8080/"
    },
    "id": "Fb1_lgobv81m",
    "outputId": "0997f73f-db32-490d-9001-d254bce0bab7"
   },
   "outputs": [
    {
     "name": "stdout",
     "output_type": "stream",
     "text": [
      "Epoch 1/100\n",
      "2/8 [======>.......................] - ETA: 0s - loss: 0.7248 - accuracy: 0.4453WARNING:tensorflow:Callbacks method `on_train_batch_end` is slow compared to the batch time (batch time: 0.0781s vs `on_train_batch_end` time: 0.1590s). Check your callbacks.\n",
      "8/8 [==============================] - 21s 3s/step - loss: 0.6937 - accuracy: 0.5361 - val_loss: 0.6753 - val_accuracy: 0.5117\n",
      "Epoch 2/100\n",
      "8/8 [==============================] - 21s 3s/step - loss: 0.6542 - accuracy: 0.6296 - val_loss: 0.6563 - val_accuracy: 0.5117\n",
      "Epoch 3/100\n",
      "8/8 [==============================] - 24s 3s/step - loss: 0.6087 - accuracy: 0.6904 - val_loss: 0.6925 - val_accuracy: 0.5000\n",
      "Epoch 4/100\n",
      "8/8 [==============================] - 21s 3s/step - loss: 0.5834 - accuracy: 0.6941 - val_loss: 1.1708 - val_accuracy: 0.5000\n",
      "Epoch 5/100\n",
      "8/8 [==============================] - 21s 3s/step - loss: 0.5692 - accuracy: 0.7097 - val_loss: 0.6150 - val_accuracy: 0.5898\n",
      "Epoch 6/100\n",
      "8/8 [==============================] - 21s 3s/step - loss: 0.5558 - accuracy: 0.7230 - val_loss: 0.7262 - val_accuracy: 0.5234\n",
      "Epoch 7/100\n",
      "8/8 [==============================] - 21s 3s/step - loss: 0.5184 - accuracy: 0.7519 - val_loss: 0.9942 - val_accuracy: 0.5000\n",
      "Epoch 8/100\n",
      "8/8 [==============================] - 21s 3s/step - loss: 0.5033 - accuracy: 0.7519 - val_loss: 0.8777 - val_accuracy: 0.5352\n",
      "Epoch 9/100\n",
      "8/8 [==============================] - 21s 3s/step - loss: 0.5056 - accuracy: 0.7631 - val_loss: 0.9035 - val_accuracy: 0.5312\n",
      "Epoch 10/100\n",
      "8/8 [==============================] - 21s 3s/step - loss: 0.5158 - accuracy: 0.7553 - val_loss: 0.8406 - val_accuracy: 0.5430\n",
      "Epoch 11/100\n",
      "8/8 [==============================] - 21s 3s/step - loss: 0.4926 - accuracy: 0.7798 - val_loss: 1.0637 - val_accuracy: 0.5156\n",
      "Epoch 12/100\n",
      "8/8 [==============================] - 21s 3s/step - loss: 0.4850 - accuracy: 0.7642 - val_loss: 1.1020 - val_accuracy: 0.5156\n",
      "Epoch 13/100\n",
      "8/8 [==============================] - 21s 3s/step - loss: 0.4492 - accuracy: 0.7842 - val_loss: 1.1815 - val_accuracy: 0.5234\n",
      "Epoch 14/100\n",
      "8/8 [==============================] - 21s 3s/step - loss: 0.4498 - accuracy: 0.7820 - val_loss: 0.7424 - val_accuracy: 0.6250\n",
      "Epoch 15/100\n",
      "8/8 [==============================] - 21s 3s/step - loss: 0.4687 - accuracy: 0.7864 - val_loss: 1.3083 - val_accuracy: 0.5234\n",
      "Epoch 16/100\n",
      "8/8 [==============================] - 23s 3s/step - loss: 0.4070 - accuracy: 0.8262 - val_loss: 0.6862 - val_accuracy: 0.6758\n",
      "Epoch 17/100\n",
      "8/8 [==============================] - 21s 3s/step - loss: 0.4933 - accuracy: 0.7764 - val_loss: 1.0358 - val_accuracy: 0.5703\n",
      "Epoch 18/100\n",
      "8/8 [==============================] - 21s 3s/step - loss: 0.4207 - accuracy: 0.7998 - val_loss: 1.2776 - val_accuracy: 0.5391\n",
      "Epoch 19/100\n",
      "8/8 [==============================] - 21s 3s/step - loss: 0.3834 - accuracy: 0.8398 - val_loss: 1.5114 - val_accuracy: 0.5234\n",
      "Epoch 20/100\n",
      "8/8 [==============================] - 21s 3s/step - loss: 0.3475 - accuracy: 0.8554 - val_loss: 0.3336 - val_accuracy: 0.8594\n",
      "Epoch 21/100\n",
      "8/8 [==============================] - 21s 3s/step - loss: 0.4826 - accuracy: 0.8031 - val_loss: 1.4131 - val_accuracy: 0.5547\n",
      "Epoch 22/100\n",
      "8/8 [==============================] - 21s 3s/step - loss: 0.3988 - accuracy: 0.8009 - val_loss: 1.1058 - val_accuracy: 0.6016\n",
      "Epoch 23/100\n",
      "8/8 [==============================] - 21s 3s/step - loss: 0.3448 - accuracy: 0.8521 - val_loss: 1.2169 - val_accuracy: 0.6016\n",
      "Epoch 24/100\n",
      "8/8 [==============================] - 23s 3s/step - loss: 0.3449 - accuracy: 0.8516 - val_loss: 1.6096 - val_accuracy: 0.5430\n",
      "Epoch 25/100\n",
      "8/8 [==============================] - 23s 3s/step - loss: 0.3789 - accuracy: 0.8467 - val_loss: 1.3002 - val_accuracy: 0.5898\n",
      "Epoch 26/100\n",
      "8/8 [==============================] - 21s 3s/step - loss: 0.3141 - accuracy: 0.8654 - val_loss: 1.4028 - val_accuracy: 0.5977\n",
      "Epoch 27/100\n",
      "8/8 [==============================] - 21s 3s/step - loss: 0.3924 - accuracy: 0.8376 - val_loss: 1.4922 - val_accuracy: 0.5742\n",
      "Epoch 28/100\n",
      "8/8 [==============================] - 21s 3s/step - loss: 0.2859 - accuracy: 0.8977 - val_loss: 3.0230 - val_accuracy: 0.5039\n",
      "Epoch 29/100\n",
      "8/8 [==============================] - 21s 3s/step - loss: 0.5316 - accuracy: 0.7864 - val_loss: 1.8624 - val_accuracy: 0.5312\n",
      "Epoch 30/100\n",
      "8/8 [==============================] - 21s 3s/step - loss: 0.2797 - accuracy: 0.8832 - val_loss: 1.9248 - val_accuracy: 0.5312\n",
      "Epoch 31/100\n",
      "8/8 [==============================] - 21s 3s/step - loss: 0.3869 - accuracy: 0.8298 - val_loss: 1.1439 - val_accuracy: 0.6328\n",
      "Epoch 32/100\n",
      "8/8 [==============================] - 21s 3s/step - loss: 0.2777 - accuracy: 0.8954 - val_loss: 1.5487 - val_accuracy: 0.5859\n",
      "Epoch 33/100\n",
      "8/8 [==============================] - 21s 3s/step - loss: 0.3227 - accuracy: 0.8732 - val_loss: 1.2460 - val_accuracy: 0.6367\n",
      "Epoch 34/100\n",
      "8/8 [==============================] - 21s 3s/step - loss: 0.2488 - accuracy: 0.9043 - val_loss: 1.4540 - val_accuracy: 0.6289\n",
      "Epoch 35/100\n",
      "8/8 [==============================] - 21s 3s/step - loss: 0.3430 - accuracy: 0.8432 - val_loss: 1.6005 - val_accuracy: 0.5898\n",
      "Epoch 36/100\n",
      "8/8 [==============================] - 21s 3s/step - loss: 0.2731 - accuracy: 0.8843 - val_loss: 1.9396 - val_accuracy: 0.5508\n",
      "Epoch 37/100\n",
      "8/8 [==============================] - 21s 3s/step - loss: 0.3173 - accuracy: 0.8443 - val_loss: 1.1866 - val_accuracy: 0.6719\n",
      "Epoch 38/100\n",
      "8/8 [==============================] - 21s 3s/step - loss: 0.2738 - accuracy: 0.8943 - val_loss: 2.1587 - val_accuracy: 0.5312\n",
      "Epoch 39/100\n",
      "8/8 [==============================] - 20s 3s/step - loss: 0.2963 - accuracy: 0.8687 - val_loss: 1.7874 - val_accuracy: 0.5703\n",
      "Epoch 40/100\n",
      "8/8 [==============================] - 21s 3s/step - loss: 0.2939 - accuracy: 0.8743 - val_loss: 1.8909 - val_accuracy: 0.5742\n",
      "Epoch 41/100\n",
      "8/8 [==============================] - 23s 3s/step - loss: 0.2888 - accuracy: 0.8789 - val_loss: 1.7475 - val_accuracy: 0.5977\n",
      "Epoch 42/100\n",
      "8/8 [==============================] - 21s 3s/step - loss: 0.2741 - accuracy: 0.8854 - val_loss: 2.2352 - val_accuracy: 0.5430\n",
      "Epoch 43/100\n",
      "8/8 [==============================] - 21s 3s/step - loss: 0.2859 - accuracy: 0.8732 - val_loss: 0.7290 - val_accuracy: 0.7461\n",
      "Epoch 44/100\n",
      "8/8 [==============================] - 21s 3s/step - loss: 0.2330 - accuracy: 0.9132 - val_loss: 2.1324 - val_accuracy: 0.5781\n",
      "Epoch 45/100\n",
      "8/8 [==============================] - 24s 3s/step - loss: 0.2909 - accuracy: 0.8687 - val_loss: 1.6681 - val_accuracy: 0.6328\n",
      "Epoch 46/100\n",
      "8/8 [==============================] - 21s 3s/step - loss: 0.3195 - accuracy: 0.8598 - val_loss: 1.8232 - val_accuracy: 0.5898\n",
      "Epoch 47/100\n",
      "8/8 [==============================] - 23s 3s/step - loss: 0.2090 - accuracy: 0.9238 - val_loss: 1.5745 - val_accuracy: 0.6406\n",
      "Epoch 48/100\n",
      "8/8 [==============================] - 21s 3s/step - loss: 0.2346 - accuracy: 0.8954 - val_loss: 2.5126 - val_accuracy: 0.5664\n",
      "Epoch 49/100\n",
      "8/8 [==============================] - 21s 3s/step - loss: 0.2855 - accuracy: 0.8832 - val_loss: 1.5861 - val_accuracy: 0.5898\n",
      "Epoch 50/100\n",
      "8/8 [==============================] - 21s 3s/step - loss: 0.2127 - accuracy: 0.9299 - val_loss: 1.7967 - val_accuracy: 0.6211\n",
      "Epoch 51/100\n",
      "8/8 [==============================] - 21s 3s/step - loss: 0.2559 - accuracy: 0.8899 - val_loss: 1.9216 - val_accuracy: 0.6016\n",
      "Epoch 52/100\n",
      "8/8 [==============================] - 21s 3s/step - loss: 0.1975 - accuracy: 0.9266 - val_loss: 3.8120 - val_accuracy: 0.5000\n",
      "Epoch 53/100\n",
      "8/8 [==============================] - 21s 3s/step - loss: 0.2948 - accuracy: 0.8821 - val_loss: 1.6735 - val_accuracy: 0.6172\n",
      "Epoch 54/100\n",
      "8/8 [==============================] - 21s 3s/step - loss: 0.2442 - accuracy: 0.9032 - val_loss: 1.7562 - val_accuracy: 0.6133\n",
      "Epoch 55/100\n",
      "8/8 [==============================] - 21s 3s/step - loss: 0.2007 - accuracy: 0.9244 - val_loss: 2.4878 - val_accuracy: 0.5586\n",
      "Epoch 56/100\n",
      "8/8 [==============================] - 21s 3s/step - loss: 0.3076 - accuracy: 0.8832 - val_loss: 2.2580 - val_accuracy: 0.5703\n",
      "Epoch 57/100\n",
      "8/8 [==============================] - 24s 3s/step - loss: 0.1844 - accuracy: 0.9321 - val_loss: 2.3610 - val_accuracy: 0.5781\n",
      "Epoch 58/100\n",
      "8/8 [==============================] - 21s 3s/step - loss: 0.2050 - accuracy: 0.9266 - val_loss: 1.6995 - val_accuracy: 0.6445\n",
      "Epoch 59/100\n",
      "8/8 [==============================] - 21s 3s/step - loss: 0.2576 - accuracy: 0.8954 - val_loss: 1.9845 - val_accuracy: 0.6094\n",
      "Epoch 60/100\n",
      "8/8 [==============================] - 21s 3s/step - loss: 0.1797 - accuracy: 0.9388 - val_loss: 1.5255 - val_accuracy: 0.6875\n",
      "Epoch 61/100\n",
      "8/8 [==============================] - 24s 3s/step - loss: 0.2396 - accuracy: 0.9032 - val_loss: 2.3686 - val_accuracy: 0.5898\n",
      "Epoch 62/100\n",
      "8/8 [==============================] - 21s 3s/step - loss: 0.2065 - accuracy: 0.9132 - val_loss: 2.1138 - val_accuracy: 0.6328\n",
      "Epoch 63/100\n",
      "8/8 [==============================] - 23s 3s/step - loss: 0.2155 - accuracy: 0.9258 - val_loss: 2.9012 - val_accuracy: 0.5664\n",
      "Epoch 64/100\n",
      "8/8 [==============================] - 21s 3s/step - loss: 0.2088 - accuracy: 0.9166 - val_loss: 3.3171 - val_accuracy: 0.5391\n",
      "Epoch 65/100\n",
      "8/8 [==============================] - 21s 3s/step - loss: 0.2250 - accuracy: 0.9088 - val_loss: 2.9584 - val_accuracy: 0.5547\n",
      "Epoch 66/100\n",
      "8/8 [==============================] - 21s 3s/step - loss: 0.2230 - accuracy: 0.9077 - val_loss: 1.3313 - val_accuracy: 0.7148\n",
      "Epoch 67/100\n",
      "8/8 [==============================] - 21s 3s/step - loss: 0.2167 - accuracy: 0.9077 - val_loss: 3.4377 - val_accuracy: 0.5391\n",
      "Epoch 68/100\n",
      "8/8 [==============================] - 23s 3s/step - loss: 0.1834 - accuracy: 0.9258 - val_loss: 2.9484 - val_accuracy: 0.5703\n",
      "Epoch 69/100\n",
      "8/8 [==============================] - 21s 3s/step - loss: 0.2490 - accuracy: 0.8999 - val_loss: 2.1558 - val_accuracy: 0.6172\n",
      "Epoch 70/100\n",
      "8/8 [==============================] - 21s 3s/step - loss: 0.2430 - accuracy: 0.8966 - val_loss: 2.9255 - val_accuracy: 0.5391\n",
      "Epoch 71/100\n",
      "8/8 [==============================] - 21s 3s/step - loss: 0.1728 - accuracy: 0.9333 - val_loss: 2.2747 - val_accuracy: 0.6172\n",
      "Epoch 72/100\n",
      "8/8 [==============================] - 21s 3s/step - loss: 0.1772 - accuracy: 0.9244 - val_loss: 1.0282 - val_accuracy: 0.7578\n",
      "Epoch 73/100\n",
      "8/8 [==============================] - 21s 3s/step - loss: 0.2113 - accuracy: 0.9232 - val_loss: 2.7537 - val_accuracy: 0.5820\n",
      "Epoch 74/100\n",
      "8/8 [==============================] - 21s 3s/step - loss: 0.1339 - accuracy: 0.9488 - val_loss: 3.6863 - val_accuracy: 0.5547\n",
      "Epoch 75/100\n",
      "8/8 [==============================] - 21s 3s/step - loss: 0.2107 - accuracy: 0.9143 - val_loss: 2.2757 - val_accuracy: 0.6133\n",
      "Epoch 76/100\n",
      "8/8 [==============================] - 21s 3s/step - loss: 0.1611 - accuracy: 0.9366 - val_loss: 2.1550 - val_accuracy: 0.6406\n",
      "Epoch 77/100\n",
      "8/8 [==============================] - 21s 3s/step - loss: 0.2025 - accuracy: 0.9155 - val_loss: 4.4352 - val_accuracy: 0.5156\n",
      "Epoch 78/100\n",
      "8/8 [==============================] - 21s 3s/step - loss: 0.1713 - accuracy: 0.9266 - val_loss: 3.4686 - val_accuracy: 0.5469\n",
      "Epoch 79/100\n",
      "8/8 [==============================] - 21s 3s/step - loss: 0.1887 - accuracy: 0.9155 - val_loss: 2.6163 - val_accuracy: 0.5938\n",
      "Epoch 80/100\n",
      "8/8 [==============================] - 21s 3s/step - loss: 0.1399 - accuracy: 0.9444 - val_loss: 3.3112 - val_accuracy: 0.5586\n",
      "Epoch 81/100\n",
      "8/8 [==============================] - 21s 3s/step - loss: 0.1802 - accuracy: 0.9321 - val_loss: 2.4837 - val_accuracy: 0.5859\n",
      "Epoch 82/100\n",
      "8/8 [==============================] - 21s 3s/step - loss: 0.1577 - accuracy: 0.9299 - val_loss: 3.5578 - val_accuracy: 0.5469\n",
      "Epoch 83/100\n",
      "8/8 [==============================] - 24s 3s/step - loss: 0.2135 - accuracy: 0.9143 - val_loss: 2.7310 - val_accuracy: 0.5781\n",
      "Epoch 84/100\n",
      "8/8 [==============================] - 21s 3s/step - loss: 0.1308 - accuracy: 0.9511 - val_loss: 3.3890 - val_accuracy: 0.5586\n",
      "Epoch 85/100\n",
      "8/8 [==============================] - 23s 3s/step - loss: 0.1489 - accuracy: 0.9512 - val_loss: 4.4299 - val_accuracy: 0.5234\n",
      "Epoch 86/100\n",
      "8/8 [==============================] - 21s 3s/step - loss: 0.1927 - accuracy: 0.9310 - val_loss: 3.8138 - val_accuracy: 0.5547\n",
      "Epoch 87/100\n",
      "8/8 [==============================] - 21s 3s/step - loss: 0.2012 - accuracy: 0.9110 - val_loss: 2.5671 - val_accuracy: 0.5977\n",
      "Epoch 88/100\n",
      "8/8 [==============================] - 23s 3s/step - loss: 0.1126 - accuracy: 0.9629 - val_loss: 3.7068 - val_accuracy: 0.5586\n",
      "Epoch 89/100\n",
      "8/8 [==============================] - 21s 3s/step - loss: 0.1846 - accuracy: 0.9232 - val_loss: 3.0261 - val_accuracy: 0.5898\n",
      "Epoch 90/100\n",
      "8/8 [==============================] - 21s 3s/step - loss: 0.1685 - accuracy: 0.9255 - val_loss: 4.2154 - val_accuracy: 0.5352\n",
      "Epoch 91/100\n",
      "8/8 [==============================] - 21s 3s/step - loss: 0.1541 - accuracy: 0.9377 - val_loss: 2.8695 - val_accuracy: 0.5938\n",
      "Epoch 92/100\n",
      "8/8 [==============================] - 21s 3s/step - loss: 0.1926 - accuracy: 0.9232 - val_loss: 3.9102 - val_accuracy: 0.5352\n",
      "Epoch 93/100\n",
      "8/8 [==============================] - 21s 3s/step - loss: 0.1736 - accuracy: 0.9288 - val_loss: 3.8054 - val_accuracy: 0.5508\n",
      "Epoch 94/100\n",
      "8/8 [==============================] - 21s 3s/step - loss: 0.1478 - accuracy: 0.9455 - val_loss: 3.3879 - val_accuracy: 0.5703\n",
      "Epoch 95/100\n",
      "8/8 [==============================] - 21s 3s/step - loss: 0.1924 - accuracy: 0.9221 - val_loss: 3.4831 - val_accuracy: 0.5625\n",
      "Epoch 96/100\n",
      "8/8 [==============================] - 21s 3s/step - loss: 0.1129 - accuracy: 0.9611 - val_loss: 2.9234 - val_accuracy: 0.6094\n",
      "Epoch 97/100\n",
      "8/8 [==============================] - 21s 3s/step - loss: 0.1822 - accuracy: 0.9310 - val_loss: 1.7931 - val_accuracy: 0.6797\n",
      "Epoch 98/100\n",
      "8/8 [==============================] - 21s 3s/step - loss: 0.2597 - accuracy: 0.8910 - val_loss: 3.5217 - val_accuracy: 0.5664\n",
      "Epoch 99/100\n",
      "8/8 [==============================] - 21s 3s/step - loss: 0.1079 - accuracy: 0.9622 - val_loss: 4.1142 - val_accuracy: 0.5430\n",
      "Epoch 100/100\n",
      "8/8 [==============================] - 24s 3s/step - loss: 0.1420 - accuracy: 0.9444 - val_loss: 3.0150 - val_accuracy: 0.5898\n"
     ]
    }
   ],
   "source": [
    "history = model.fit(\n",
    "      train_generator,\n",
    "      steps_per_epoch=8,  \n",
    "      epochs=100,\n",
    "      verbose=1,\n",
    "      validation_data = validation_generator,\n",
    "      validation_steps=8)"
   ]
  },
  {
   "cell_type": "code",
   "execution_count": 7,
   "metadata": {
    "colab": {
     "base_uri": "https://localhost:8080/",
     "height": 545
    },
    "id": "7zNPRWOVJdOH",
    "outputId": "88920574-ad9a-4898-b906-4eeef51239a6"
   },
   "outputs": [
    {
     "data": {
      "image/png": "[encoded data removed]",
      "text/plain": [
       "<Figure size 432x288 with 1 Axes>"
      ]
     },
     "metadata": {
      "needs_background": "light",
      "tags": []
     },
     "output_type": "display_data"
    },
    {
     "data": {
      "image/png": "[encoded data removed]",
      "text/plain": [
       "<Figure size 432x288 with 1 Axes>"
      ]
     },
     "metadata": {
      "needs_background": "light",
      "tags": []
     },
     "output_type": "display_data"
    }
   ],
   "source": [
    "import matplotlib.pyplot as plt\n",
    "acc = history.history['accuracy']\n",
    "val_acc = history.history['val_accuracy']\n",
    "loss = history.history['loss']\n",
    "val_loss = history.history['val_loss']\n",
    "\n",
    "epochs = range(len(acc))\n",
    "\n",
    "plt.plot(epochs, acc, 'r', label='Training accuracy')\n",
    "plt.plot(epochs, val_acc, 'b', label='Validation accuracy')\n",
    "plt.title('Training and validation accuracy')\n",
    "\n",
    "plt.figure()\n",
    "\n",
    "plt.plot(epochs, loss, 'r', label='Training Loss')\n",
    "plt.plot(epochs, val_loss, 'b', label='Validation Loss')\n",
    "plt.title('Training and validation loss')\n",
    "plt.legend()\n",
    "\n",
    "plt.show()"
   ]
  },
  {
   "cell_type": "markdown",
   "metadata": {},
   "source": [
    "<h3> Thing to notice here is augmentation didn't helped the model and degraded the model performance because earlier the validation set had same features as training set, in other words validation set was not general enough and thus we were getting a false sense of success, that model would have performed poorly on the real life test data.</h3>"
   ]
  }
 ],
 "metadata": {
  "accelerator": "GPU",
  "colab": {
   "collapsed_sections": [],
   "name": "Course 2 - Part 4 - Lesson 4 - Notebook.ipynb",
   "provenance": [],
   "toc_visible": true
  },
  "kernelspec": {
   "display_name": "Python 3",
   "language": "python",
   "name": "python3"
  },
  "language_info": {
   "codemirror_mode": {
    "name": "ipython",
    "version": 3
   },
   "file_extension": ".py",
   "mimetype": "text/x-python",
   "name": "python",
   "nbconvert_exporter": "python",
   "pygments_lexer": "ipython3",
   "version": "3.7.6"
  }
 },
 "nbformat": 4,
 "nbformat_minor": 1
}
