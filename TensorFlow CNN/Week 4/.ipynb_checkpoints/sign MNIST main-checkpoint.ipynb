{
 "cells": [
  {
   "cell_type": "code",
   "execution_count": 1,
   "metadata": {
    "colab": {},
    "colab_type": "code",
    "id": "wYtuKeK0dImp"
   },
   "outputs": [],
   "source": [
    "import csv\n",
    "import numpy as np\n",
    "import tensorflow as tf\n",
    "from tensorflow.keras.preprocessing.image import ImageDataGenerator\n",
    "from os import getcwd\n",
    "from tensorflow.keras.optimizers import Adam"
   ]
  },
  {
   "cell_type": "code",
   "execution_count": 2,
   "metadata": {
    "colab": {},
    "colab_type": "code",
    "id": "4kxw-_rmcnVu"
   },
   "outputs": [
    {
     "name": "stdout",
     "output_type": "stream",
     "text": [
      "(27455, 28, 28)\n",
      "(27455,)\n",
      "(7172, 28, 28)\n",
      "(7172,)\n"
     ]
    }
   ],
   "source": [
    "def get_data(filename):\n",
    "  # You will need to write code that will read the file passed\n",
    "  # into this function. The first line contains the column headers\n",
    "  # so you should ignore it\n",
    "  # Each successive line contians 785 comma separated values between 0 and 255\n",
    "  # The first value is the label\n",
    "  # The rest are the pixel values for that picture\n",
    "  # The function will return 2 np.array types. One with all the labels\n",
    "  # One with all the images\n",
    "  #\n",
    "  # Tips: \n",
    "  # If you read a full line (as 'row') then row[0] has the label\n",
    "  # and row[1:785] has the 784 pixel values\n",
    "  # Take a look at np.array_split to turn the 784 pixels into 28x28\n",
    "  # You are reading in strings, but need the values to be floats\n",
    "  # Check out np.array().astype for a conversion\n",
    "    with open(filename) as training_file:\n",
    "        reader = csv.reader(training_file, delimiter=',')    \n",
    "        imgs = []\n",
    "        labels = []\n",
    "        next(reader, None)\n",
    "        for row in reader:\n",
    "            label = row[0]\n",
    "            data = row[1:]\n",
    "            img = np.array(data).reshape((28, 28))\n",
    "            imgs.append(img)\n",
    "            labels.append(label)\n",
    "        images = np.array(imgs).astype(float)\n",
    "        labels = np.array(labels).astype(float)\n",
    "    # Your code ends here\n",
    "    return images, labels\n",
    "\n",
    "path_sign_mnist_train = f\"{getcwd()}/../tmp2/sign_mnist_train.csv\"\n",
    "path_sign_mnist_test = f\"{getcwd()}/../tmp2/sign_mnist_test.csv\"\n",
    "training_images, training_labels = get_data(path_sign_mnist_train)\n",
    "testing_images, testing_labels = get_data(path_sign_mnist_test)\n",
    "\n",
    "# Keep these\n",
    "print(training_images.shape)\n",
    "print(training_labels.shape)\n",
    "print(testing_images.shape)\n",
    "print(testing_labels.shape)\n",
    "\n",
    "# Their output should be:\n",
    "# (27455, 28, 28)\n",
    "# (27455,)\n",
    "# (7172, 28, 28)\n",
    "# (7172,)"
   ]
  },
  {
   "cell_type": "code",
   "execution_count": 3,
   "metadata": {
    "colab": {},
    "colab_type": "code",
    "id": "awoqRpyZdQkD"
   },
   "outputs": [
    {
     "name": "stdout",
     "output_type": "stream",
     "text": [
      "(27455, 28, 28, 1)\n",
      "(7172, 28, 28, 1)\n"
     ]
    }
   ],
   "source": [
    "# In this section you will have to add another dimension to the data\n",
    "# So, for example, if your array is (10000, 28, 28)\n",
    "# You will need to make it (10000, 28, 28, 1)\n",
    "# Hint: np.expand_dims\n",
    "\n",
    "training_images = np.expand_dims(training_images, axis=3)\n",
    "testing_images = np.expand_dims(testing_images, axis=3)\n",
    "\n",
    "# Create an ImageDataGenerator and do Image Augmentation\n",
    "train_datagen = ImageDataGenerator(\n",
    "    # Your Code Here\n",
    "    rescale=1./255,\n",
    "    rotation_range=40,\n",
    "    shear_range=0.2,\n",
    "    zoom_range=0.2,\n",
    "    horizontal_flip=True,\n",
    "    height_shift_range=0.2,\n",
    "    width_shift_range=0.2,\n",
    "    fill_mode='nearest'\n",
    "    )\n",
    "\n",
    "validation_datagen = ImageDataGenerator(\n",
    "    # Your Code Here\n",
    "    rescale=1./255)\n",
    "    \n",
    "# Keep These\n",
    "print(training_images.shape)\n",
    "print(testing_images.shape)\n",
    "    \n",
    "# Their output should be:\n",
    "# (27455, 28, 28, 1)\n",
    "# (7172, 28, 28, 1)"
   ]
  },
  {
   "cell_type": "code",
   "execution_count": 4,
   "metadata": {
    "colab": {},
    "colab_type": "code",
    "id": "Rmb7S32cgRqS"
   },
   "outputs": [
    {
     "name": "stdout",
     "output_type": "stream",
     "text": [
      "Epoch 1/20\n",
      "858/858 [==============================] - 67s 78ms/step - loss: 2.5901 - accuracy: 0.2057 - val_loss: 1.6407 - val_accuracy: 0.4742\n",
      "Epoch 2/20\n",
      "858/858 [==============================] - 61s 71ms/step - loss: 1.6634 - accuracy: 0.4621 - val_loss: 0.9475 - val_accuracy: 0.6676\n",
      "Epoch 3/20\n",
      "858/858 [==============================] - 58s 68ms/step - loss: 1.2203 - accuracy: 0.5961 - val_loss: 0.5973 - val_accuracy: 0.7962\n",
      "Epoch 4/20\n",
      "858/858 [==============================] - 60s 70ms/step - loss: 0.9738 - accuracy: 0.6753 - val_loss: 0.5149 - val_accuracy: 0.8165\n",
      "Epoch 5/20\n",
      "858/858 [==============================] - 60s 70ms/step - loss: 0.8014 - accuracy: 0.7340 - val_loss: 0.3939 - val_accuracy: 0.8762\n",
      "Epoch 6/20\n",
      "858/858 [==============================] - 70s 81ms/step - loss: 0.7018 - accuracy: 0.7665 - val_loss: 0.3990 - val_accuracy: 0.8666\n",
      "Epoch 7/20\n",
      "858/858 [==============================] - 69s 80ms/step - loss: 0.6129 - accuracy: 0.7941 - val_loss: 0.2981 - val_accuracy: 0.8978\n",
      "Epoch 8/20\n",
      "858/858 [==============================] - 60s 70ms/step - loss: 0.5557 - accuracy: 0.8144 - val_loss: 0.2790 - val_accuracy: 0.9039\n",
      "Epoch 9/20\n",
      "858/858 [==============================] - 61s 71ms/step - loss: 0.5125 - accuracy: 0.8308 - val_loss: 0.2652 - val_accuracy: 0.9090\n",
      "Epoch 10/20\n",
      "858/858 [==============================] - 61s 71ms/step - loss: 0.4553 - accuracy: 0.8467 - val_loss: 0.1754 - val_accuracy: 0.9392\n",
      "Epoch 11/20\n",
      "858/858 [==============================] - 60s 70ms/step - loss: 0.4280 - accuracy: 0.8568 - val_loss: 0.1810 - val_accuracy: 0.9391\n",
      "Epoch 12/20\n",
      "858/858 [==============================] - 60s 69ms/step - loss: 0.3974 - accuracy: 0.8660 - val_loss: 0.2011 - val_accuracy: 0.9314\n",
      "Epoch 13/20\n",
      "858/858 [==============================] - 58s 67ms/step - loss: 0.3856 - accuracy: 0.8698 - val_loss: 0.1257 - val_accuracy: 0.9605\n",
      "Epoch 14/20\n",
      "858/858 [==============================] - 59s 69ms/step - loss: 0.3563 - accuracy: 0.8822 - val_loss: 0.1613 - val_accuracy: 0.9421\n",
      "Epoch 15/20\n",
      "858/858 [==============================] - 59s 69ms/step - loss: 0.3499 - accuracy: 0.8858 - val_loss: 0.1458 - val_accuracy: 0.9467\n",
      "Epoch 16/20\n",
      "858/858 [==============================] - 60s 70ms/step - loss: 0.3256 - accuracy: 0.8897 - val_loss: 0.1329 - val_accuracy: 0.9523\n",
      "Epoch 17/20\n",
      "858/858 [==============================] - 60s 69ms/step - loss: 0.3102 - accuracy: 0.8946 - val_loss: 0.1137 - val_accuracy: 0.9674\n",
      "Epoch 18/20\n",
      "858/858 [==============================] - 58s 68ms/step - loss: 0.3040 - accuracy: 0.8988 - val_loss: 0.1069 - val_accuracy: 0.9665\n",
      "Epoch 19/20\n",
      "858/858 [==============================] - 58s 68ms/step - loss: 0.2920 - accuracy: 0.9039 - val_loss: 0.1263 - val_accuracy: 0.9540\n",
      "Epoch 20/20\n",
      "858/858 [==============================] - 60s 69ms/step - loss: 0.2822 - accuracy: 0.9066 - val_loss: 0.0575 - val_accuracy: 0.9837\n"
     ]
    },
    {
     "data": {
      "text/plain": [
       "[119.09993598159305, 0.8141383]"
      ]
     },
     "execution_count": 4,
     "metadata": {},
     "output_type": "execute_result"
    }
   ],
   "source": [
    "# Define the model\n",
    "# Use no more than 2 Conv2D and 2 MaxPooling2D\n",
    "model = tf.keras.models.Sequential([\n",
    "    # Your Code Here\n",
    "    tf.keras.layers.Conv2D(64, (3,3), activation='relu', input_shape=(28,28,1)),\n",
    "    tf.keras.layers.MaxPooling2D(2,2),\n",
    "    tf.keras.layers.Conv2D(128,(3,3), activation='relu'),\n",
    "    tf.keras.layers.MaxPooling2D(2,2),\n",
    "    tf.keras.layers.Flatten(),\n",
    "    tf.keras.layers.Dense(512, activation='relu'),\n",
    "    tf.keras.layers.Dense(26, activation='softmax')   #len(np.unique(training_labels))\n",
    "])\n",
    "\n",
    "# Compile Model. \n",
    "model.compile(loss = 'sparse_categorical_crossentropy', optimizer=Adam(learning_rate=0.001), metrics=['accuracy'])\n",
    "\n",
    "# Train the Model\n",
    "history = model.fit_generator(train_datagen.flow(training_images, training_labels, batch_size=32),\n",
    "                              validation_data=validation_datagen.flow(testing_images, testing_labels, batch_size=32),\n",
    "                              epochs=20\n",
    "                              # Your Code Here (set 'epochs' = 2)\n",
    "                             )\n",
    "\n",
    "model.evaluate(testing_images, testing_labels, verbose=0)"
   ]
  },
  {
   "cell_type": "code",
   "execution_count": 5,
   "metadata": {
    "colab": {},
    "colab_type": "code",
    "id": "_Q3Zpr46dsij"
   },
   "outputs": [
    {
     "data": {
      "image/png": "[encoded data removed]",
      "text/plain": [
       "<Figure size 432x288 with 1 Axes>"
      ]
     },
     "metadata": {
      "needs_background": "light"
     },
     "output_type": "display_data"
    },
    {
     "data": {
      "image/png": "[encoded data removed]",
      "text/plain": [
       "<Figure size 432x288 with 1 Axes>"
      ]
     },
     "metadata": {
      "needs_background": "light"
     },
     "output_type": "display_data"
    }
   ],
   "source": [
    "# Plot the chart for accuracy and loss on both training and validation\n",
    "%matplotlib inline\n",
    "import matplotlib.pyplot as plt\n",
    "acc = history.history['accuracy']\n",
    "val_acc = history.history['val_accuracy']\n",
    "loss = history.history['loss']\n",
    "val_loss = history.history['val_loss']\n",
    "\n",
    "epochs = range(len(acc))\n",
    "\n",
    "plt.plot(epochs, acc, 'r', label='Training accuracy')\n",
    "plt.plot(epochs, val_acc, 'b', label='Validation accuracy')\n",
    "plt.title('Training and validation accuracy')\n",
    "plt.legend()\n",
    "plt.figure()\n",
    "\n",
    "plt.plot(epochs, loss, 'r', label='Training Loss')\n",
    "plt.plot(epochs, val_loss, 'b', label='Validation Loss')\n",
    "plt.title('Training and validation loss')\n",
    "plt.legend()\n",
    "\n",
    "plt.show()"
   ]
  }
 ],
 "metadata": {
  "colab": {
   "name": "Exercise 8 - Question.ipynb",
   "provenance": []
  },
  "coursera": {
   "course_slug": "convolutional-neural-networks-tensorflow",
   "graded_item_id": "8mIh8",
   "launcher_item_id": "gg95t"
  },
  "kernelspec": {
   "display_name": "Python 3",
   "language": "python",
   "name": "python3"
  },
  "language_info": {
   "codemirror_mode": {
    "name": "ipython",
    "version": 3
   },
   "file_extension": ".py",
   "mimetype": "text/x-python",
   "name": "python",
   "nbconvert_exporter": "python",
   "pygments_lexer": "ipython3",
   "version": "3.7.6"
  }
 },
 "nbformat": 4,
 "nbformat_minor": 1
}
